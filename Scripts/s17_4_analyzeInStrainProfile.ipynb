{
 "cells": [
  {
   "cell_type": "code",
   "execution_count": null,
   "id": "a17f88b7-b28e-4caa-a0af-3be03077b0d3",
   "metadata": {},
   "outputs": [],
   "source": [
    "###This script is to parse through the inStrain-Profile results"
   ]
  },
  {
   "cell_type": "code",
   "execution_count": 1,
   "id": "cf2e781c-4ec4-4488-a48a-5c1bfcc43f79",
   "metadata": {},
   "outputs": [],
   "source": [
    "import scipy.stats as stats\n",
    "import random\n",
    "import statistics"
   ]
  },
  {
   "cell_type": "code",
   "execution_count": 6,
   "id": "3b03f37e-e625-44e7-8b65-664f42225441",
   "metadata": {},
   "outputs": [],
   "source": [
    "MAG_dictionary = {}\n",
    "\n",
    "for line in open(\"/Users/bejanmahmud/Library/CloudStorage/Box-Box/Bejan's files/Projects/DOME/DOME/Analysis/Metagenome/220221_DOME_fc_all/d17_inStrain/Profile/merged_breadthFiltered.txt\", \"r\"):\n",
    "    if line.startswith(\"sample\"):\n",
    "        continue\n",
    "    else:\n",
    "        line = line.strip().split(\"\\t\")\n",
    "        sample = line[0]\n",
    "        MAG = line[1]\n",
    "        if MAG not in MAG_dictionary.keys():\n",
    "            MAG_dictionary[MAG] = sample\n",
    "        else:\n",
    "            MAG_dictionary[MAG] += \"\\t\" + sample"
   ]
  },
  {
   "cell_type": "code",
   "execution_count": 8,
   "id": "43aac124-183f-4d1b-a9aa-932698017647",
   "metadata": {},
   "outputs": [],
   "source": [
    "MAG_dictionary_path = \"/Users/bejanmahmud/Library/CloudStorage/Box-Box/Bejan's files/Projects/DOME/DOME/Analysis/Metagenome/220221_DOME_fc_all/d17_inStrain/Profile/221007_MAGpresence.txt\"\n",
    "MAG_dictionary_file = open(MAG_dictionary_path, \"w\")\n",
    "\n",
    "for key, value in MAG_dictionary.items():\n",
    "    print(key + \"\\t\" + value, file = MAG_dictionary_file)\n",
    "    \n",
    "MAG_dictionary_file.close()"
   ]
  },
  {
   "cell_type": "code",
   "execution_count": 9,
   "id": "4ae4634c-1095-4417-8cc2-11ab3248e806",
   "metadata": {},
   "outputs": [],
   "source": [
    "MAG_hostCounts = {}\n",
    "\n",
    "for key in MAG_dictionary.keys():\n",
    "    MAG_hostCounts[key] = {}\n",
    "    MAG_hostCounts[key][\"C\"] = 0\n",
    "    MAG_hostCounts[key][\"W\"] = 0\n",
    "    MAG_hostCounts[key][\"D\"] = 0"
   ]
  },
  {
   "cell_type": "code",
   "execution_count": 13,
   "id": "36e90943-61f8-4fc1-90be-150981162f74",
   "metadata": {},
   "outputs": [],
   "source": [
    "for line in open(\"/Users/bejanmahmud/Library/CloudStorage/Box-Box/Bejan's files/Projects/DOME/DOME/Analysis/Metagenome/220221_DOME_fc_all/d17_inStrain/Profile/merged_breadthFiltered.txt\", \"r\"):\n",
    "    if line.startswith(\"sample\"):\n",
    "        continue\n",
    "    else:\n",
    "        line = line.strip().split(\"\\t\")\n",
    "        sample = line[0].split(\"-\")[1]\n",
    "        MAG = line[1]\n",
    "        subject = list(sample)[0]\n",
    "        MAG_hostCounts[MAG][subject] += 1"
   ]
  },
  {
   "cell_type": "code",
   "execution_count": 22,
   "id": "6b372eef-c2dd-46da-bb19-0eee957f233d",
   "metadata": {},
   "outputs": [],
   "source": [
    "MAG_keys = open(\"/Users/bejanmahmud/Library/CloudStorage/Box-Box/Bejan's files/Projects/DOME/DOME/Analysis/Metagenome/220221_DOME_fc_all/Mapping_v6_inStrainMAGs.txt\", \"w\")\n",
    "\n",
    "for key in MAG_dictionary.keys():\n",
    "    print(key[:-3], file = MAG_keys)\n",
    "    samples = MAG_dictionary[key].split(\"\\t\")\n",
    "    samples_path = \"/Users/bejanmahmud/Library/CloudStorage/Box-Box/Bejan's files/Projects/DOME/DOME/Analysis/Metagenome/220221_DOME_fc_all/d17_inStrain_MAGs/SampleLists/\" + key[:-3] + \"_samples.txt\"\n",
    "    samples_file = open(samples_path, \"w\")\n",
    "    for sample in samples:\n",
    "        print(sample.strip(), file = samples_file)\n",
    "    samples_file.close()\n",
    "    \n",
    "MAG_keys.close()\n",
    "    "
   ]
  },
  {
   "cell_type": "code",
   "execution_count": 33,
   "id": "815885b1-53b3-490f-b332-ee1b50b17fdd",
   "metadata": {},
   "outputs": [],
   "source": [
    "###Some MAGs were present only in 1 sample each, so removing those from the list\n",
    "MAG_keys = open(\"/Users/bejanmahmud/Library/CloudStorage/Box-Box/Bejan's files/Projects/DOME/DOME/Analysis/Metagenome/220221_DOME_fc_all/Mapping_v6_inStrainMAGs.txt\", \"w\")\n",
    "\n",
    "for key in MAG_dictionary.keys():\n",
    "    if len(MAG_dictionary[key].split(\"\\t\")) > 1:\n",
    "        print(key[:-3], file = MAG_keys)\n",
    "        \n",
    "MAG_keys.close()"
   ]
  },
  {
   "cell_type": "code",
   "execution_count": null,
   "id": "7ad97028-96c4-4d23-ba08-9605ba409cba",
   "metadata": {},
   "outputs": [],
   "source": [
    "counter = 0\n",
    "total = 0\n",
    "\n",
    "for key in MAG_hostCounts.keys():\n",
    "    if MAG_hostCounts[key]['C'] != 0 and sum([MAG_hostCounts[key]['D'], MAG_hostCounts[key]['W']]) > 0:\n",
    "        counter += 1\n",
    "        total += sum([MAG_hostCounts[key]['C'], MAG_hostCounts[key]['D'], MAG_hostCounts[key]['W']])\n",
    "        print(key + \" - C: \" + str(MAG_hostCounts[key]['C']) + \"   W: \" + str(MAG_hostCounts[key]['W']) + \"   D: \" + str(MAG_hostCounts[key]['D']))\n",
    "\n",
    "print(\"MAGs: \" + str(counter) + \"; Total: \" + str(total))"
   ]
  },
  {
   "cell_type": "code",
   "execution_count": 60,
   "id": "b9ac762d-9007-4c0c-a8ab-c18e03b530aa",
   "metadata": {},
   "outputs": [],
   "source": [
    "###Getting all the MAGs that are present in both cows and humans\n",
    "pairs_MAGs = open(\"/Users/bejanmahmud/Library/CloudStorage/Box-Box/Bejan's files/Projects/DOME/DOME/Analysis/Metagenome/220221_DOME_fc_all/d17_inStrain_MAGs/221008_pairs_MAGs.txt\", \"w\")\n",
    "pairs_samples = open(\"/Users/bejanmahmud/Library/CloudStorage/Box-Box/Bejan's files/Projects/DOME/DOME/Analysis/Metagenome/220221_DOME_fc_all/d17_inStrain_MAGs/221008_pairs_samples.txt\", \"w\")\n",
    "\n",
    "MAG_keys = open(\"/Users/bejanmahmud/Library/CloudStorage/Box-Box/Bejan's files/Projects/DOME/DOME/Analysis/Metagenome/220221_DOME_fc_all/Mapping_v6_inStrainMAGs.txt\", \"w\")\n",
    "\n",
    "for key in MAG_hostCounts.keys():\n",
    "    if MAG_hostCounts[key]['C'] != 0 and sum([MAG_hostCounts[key]['D'], MAG_hostCounts[key]['W']]) > 0:\n",
    "        print(key[:-3], file = MAG_keys)\n",
    "        samples = MAG_dictionary[key].split(\"\\t\")\n",
    "        for sample in samples:\n",
    "            print(key[:-3], file = pairs_MAGs)\n",
    "            print(sample.strip(), file = pairs_samples)\n",
    "\n",
    "MAG_keys.close()\n",
    "pairs_MAGs.close()\n",
    "pairs_samples.close()"
   ]
  },
  {
   "cell_type": "code",
   "execution_count": 62,
   "id": "7e12aec8-9d9d-4150-932f-46a2aeb9c57b",
   "metadata": {},
   "outputs": [
    {
     "data": {
      "text/plain": [
       "29679"
      ]
     },
     "execution_count": 62,
     "metadata": {},
     "output_type": "execute_result"
    }
   ],
   "source": [
    "counter = 0\n",
    "\n",
    "for key in MAG_dictionary.keys():\n",
    "    if len(MAG_dictionary[key].split(\"\\t\")) > 1:\n",
    "        counter += len(MAG_dictionary[key].split(\"\\t\"))\n",
    "        \n",
    "counter"
   ]
  },
  {
   "cell_type": "code",
   "execution_count": 91,
   "id": "5079f2d9-f298-4e58-b118-18ea2709534c",
   "metadata": {},
   "outputs": [
    {
     "data": {
      "text/plain": [
       "Power_divergenceResult(statistic=8.462606837606842, pvalue=0.003625219117837041)"
      ]
     },
     "execution_count": 91,
     "metadata": {},
     "output_type": "execute_result"
    }
   ],
   "source": [
    "###Running the Chi-Square Goodness of Fit to look for the enrichment in the number of instances of strain sharing between farmers and cows\n",
    "###Enrichment in the number of strain sharing events between farmers and cows (relative to office and cows) independent of site (different vs same)\n",
    "observed = [410, 214]\n",
    "expected = [((410 + 214) * 72675 / (72675 + 48450)), ((410 + 214) * 48450 / (72675 + 48450))]\n",
    "stats.chisquare(f_obs=observed, f_exp=expected)"
   ]
  },
  {
   "cell_type": "code",
   "execution_count": 94,
   "id": "98475186-a0f1-4b30-81ad-8507163e32f2",
   "metadata": {},
   "outputs": [
    {
     "data": {
      "text/plain": [
       "Power_divergenceResult(statistic=14.050917852633827, pvalue=0.0001779269723560272)"
      ]
     },
     "execution_count": 94,
     "metadata": {},
     "output_type": "execute_result"
    }
   ],
   "source": [
    "###Enrichment in the number of same-site strain sharing events between farmers and cows (relative to office and cows)\n",
    "observed = [46, 8]\n",
    "expected = [((46 + 8) * 2260 / (2260 + 1493)), ((46 + 8) * 1493 / (2260 + 1493))]\n",
    "stats.chisquare(f_obs=observed, f_exp=expected)"
   ]
  },
  {
   "cell_type": "code",
   "execution_count": 98,
   "id": "969048c4-a449-4e89-8f8b-8dc8b74389f2",
   "metadata": {},
   "outputs": [
    {
     "data": {
      "text/plain": [
       "Power_divergenceResult(statistic=3.550624923878828, pvalue=0.059523028734000956)"
      ]
     },
     "execution_count": 98,
     "metadata": {},
     "output_type": "execute_result"
    }
   ],
   "source": [
    "###Enrichment in the number of different-site strain sharing events between farmers and cows (relative to office and cows)\n",
    "observed = [364, 206]\n",
    "expected = [((364 + 206) * 70415 / (70415 + 46957)), ((364 + 206) * 46957 / (70415 + 46957))]\n",
    "stats.chisquare(f_obs=observed, f_exp=expected)"
   ]
  },
  {
   "cell_type": "code",
   "execution_count": 97,
   "id": "1d4985d4-ab10-48c7-9c29-01266ea44b37",
   "metadata": {},
   "outputs": [
    {
     "data": {
      "text/plain": [
       "Power_divergenceResult(statistic=89.49487117623205, pvalue=3.074344497768827e-21)"
      ]
     },
     "execution_count": 97,
     "metadata": {},
     "output_type": "execute_result"
    }
   ],
   "source": [
    "###Enrichment in the number of strain sharing events between farmers and cows within same sites or different sites\n",
    "observed = [364, 46]\n",
    "expected = [((364 + 46) * 70415 / (70415 + 2260)), ((364 + 46) * 2260 / (70415 + 2260))]\n",
    "stats.chisquare(f_obs=observed, f_exp=expected)"
   ]
  },
  {
   "cell_type": "code",
   "execution_count": 44,
   "id": "6b80d0b2-64fc-4512-b4ae-a34a479bc2b2",
   "metadata": {},
   "outputs": [],
   "source": [
    "###Running the permutations to look for the enrichment in the number of instances of strain sharing between farmers and cows\n",
    "###Enrichment in the number of strain sharing events between farmers and cows (relative to office and cows) independent of site (different vs same)\n",
    "counts = []\n",
    "\n",
    "for i in range(10000):\n",
    "    iteration = random.choices([\"Farmer\", \"Office\"], weights = (72675, 48450), k = 624)\n",
    "    counter = 0\n",
    "\n",
    "    for p in iteration:\n",
    "        if p == \"Farmer\":\n",
    "            counter += 1\n",
    "        \n",
    "    counts.append(counter)\n",
    "    \n",
    "zscore = (410 - statistics.mean(counts))/statistics.stdev(counts)\n",
    "\n",
    "counts_file = open(\"/Users/bejanmahmud/Library/CloudStorage/Box-Box/Bejan's files/Projects/DOME/DOME/Analysis/Metagenome/220221_DOME_fc_all/d17_inStrain_MAGs/Permutations/230124_Farmer-Office_SiteInd_FarmerCounts.txt\", \"w\")\n",
    "\n",
    "print(\"Observed farmer count = 410\", file = counts_file)\n",
    "print(\"z-score = \" + str(zscore), file = counts_file)\n",
    "\n",
    "for line in counts:\n",
    "    print(str(line), file = counts_file)\n",
    "    \n",
    "counts_file.close()"
   ]
  },
  {
   "cell_type": "code",
   "execution_count": 45,
   "id": "77f8465d-f1c7-4e03-9446-07a3a8bb0bce",
   "metadata": {},
   "outputs": [],
   "source": [
    "###Enrichment in the number of same-site strain sharing events between farmers and cows (relative to office and cows)\n",
    "counts = []\n",
    "\n",
    "for i in range(10000):\n",
    "    iteration = random.choices([\"Farmer\", \"Office\"], weights = (2260, 1493), k = 54)\n",
    "    counter = 0\n",
    "\n",
    "    for p in iteration:\n",
    "        if p == \"Farmer\":\n",
    "            counter += 1\n",
    "        \n",
    "    counts.append(counter)\n",
    "    \n",
    "zscore = (46 - statistics.mean(counts))/statistics.stdev(counts)\n",
    "\n",
    "counts_file = open(\"/Users/bejanmahmud/Library/CloudStorage/Box-Box/Bejan's files/Projects/DOME/DOME/Analysis/Metagenome/220221_DOME_fc_all/d17_inStrain_MAGs/Permutations/230124_Farmer-Office_SameSite_FarmerCounts.txt\", \"w\")\n",
    "\n",
    "print(\"Observed farmer count = 46\", file = counts_file)\n",
    "print(\"z-score = \" + str(zscore), file = counts_file)\n",
    "\n",
    "for line in counts:\n",
    "    print(str(line), file = counts_file)\n",
    "    \n",
    "counts_file.close()"
   ]
  },
  {
   "cell_type": "code",
   "execution_count": 46,
   "id": "4393ee25-2218-4816-961f-55a11d5b4c18",
   "metadata": {},
   "outputs": [],
   "source": [
    "###Enrichment in the number of different-site strain sharing events between farmers and cows (relative to office and cows)\n",
    "counts = []\n",
    "\n",
    "for i in range(10000):\n",
    "    iteration = random.choices([\"Farmer\", \"Office\"], weights = (70415, 46957), k = 570)\n",
    "    counter = 0\n",
    "\n",
    "    for p in iteration:\n",
    "        if p == \"Farmer\":\n",
    "            counter += 1\n",
    "        \n",
    "    counts.append(counter)\n",
    "    \n",
    "zscore = (364 - statistics.mean(counts))/statistics.stdev(counts)\n",
    "\n",
    "counts_file = open(\"/Users/bejanmahmud/Library/CloudStorage/Box-Box/Bejan's files/Projects/DOME/DOME/Analysis/Metagenome/220221_DOME_fc_all/d17_inStrain_MAGs/Permutations/230124_Farmer-Office_DiffSite_FarmerCounts.txt\", \"w\")\n",
    "\n",
    "print(\"Observed farmer count = 364\", file = counts_file)\n",
    "print(\"z-score = \" + str(zscore), file = counts_file)\n",
    "\n",
    "for line in counts:\n",
    "    print(str(line), file = counts_file)\n",
    "    \n",
    "counts_file.close()"
   ]
  },
  {
   "cell_type": "code",
   "execution_count": 47,
   "id": "4455babb-0f42-4fab-a582-b75907003878",
   "metadata": {},
   "outputs": [],
   "source": [
    "###Enrichment in the number of strain sharing events between farmers and cows within same sites or different sites\n",
    "counts = []\n",
    "\n",
    "for i in range(10000):\n",
    "    iteration = random.choices([\"Same\", \"Different\"], weights = (2260, 70415), k = 410)\n",
    "    counter = 0\n",
    "\n",
    "    for p in iteration:\n",
    "        if p == \"Same\":\n",
    "            counter += 1\n",
    "        \n",
    "    counts.append(counter)\n",
    "    \n",
    "zscore = (46 - statistics.mean(counts))/statistics.stdev(counts)\n",
    "\n",
    "counts_file = open(\"/Users/bejanmahmud/Library/CloudStorage/Box-Box/Bejan's files/Projects/DOME/DOME/Analysis/Metagenome/220221_DOME_fc_all/d17_inStrain_MAGs/Permutations/230124_Farmer-Farmer_Sites_SameSiteCounts.txt\", \"w\")\n",
    "\n",
    "print(\"Observed same site count = 46\", file = counts_file)\n",
    "print(\"z-score = \" + str(zscore), file = counts_file)\n",
    "\n",
    "for line in counts:\n",
    "    print(str(line), file = counts_file)\n",
    "    \n",
    "counts_file.close()"
   ]
  },
  {
   "cell_type": "code",
   "execution_count": 18,
   "id": "2df241b5-b707-414f-b844-0e6e7b42c3aa",
   "metadata": {},
   "outputs": [],
   "source": [
    "###One of the reviewer's was asked about how this enrichment analysis dealt with repeat samples from the same individual...\n",
    "###...as well as multiple coocurence events found in the same cow-human pair, which would inflate the enrcihment scores\n",
    "###Calculating the enrichment in the number of farmer-cow pairs where cooccurring lineages were found...\n",
    "###...independent of the number of such cooccurrences...\n",
    "###(i.e., even if 2 lineages are found between a cow and a farmer, it's counted only as 1 instance)\n",
    "###Number of farmer-cow pairs with shared lineages = 204\n",
    "###Number of non-farmer-cow pairs with shared lineages = 134\n",
    "###Total number of farmer-cow pairs = 10,624\n",
    "###Total number of non-farmer-cow pairs = 8,798\n",
    "counts = []\n",
    "\n",
    "for i in range(10000):\n",
    "    iteration = random.choices([\"Farmer\", \"Office\"], weights = (10624, 8798), k = 338)\n",
    "    counter = 0\n",
    "    \n",
    "    for p in iteration:\n",
    "        if p == \"Farmer\":\n",
    "            counter += 1\n",
    "        \n",
    "    counts.append(counter)\n",
    "    \n",
    "zscore = (204 - statistics.mean(counts))/statistics.stdev(counts)\n",
    "\n",
    "counts_file = open(\"/Users/bejanmahmud/Library/CloudStorage/Box-Box/Bejan's files/Projects/DOME/DOME/Analysis/Metagenome/220221_DOME_fc_all/d17_inStrain_MAGs/Permutations/231008_Farmer-Office_SubjectPairs_FarmerCowPairCounts.txt\", \"w\")\n",
    "\n",
    "print(\"Observed number of farmer-cow pairs with shared lineage(s) = 204\", file = counts_file)\n",
    "print(\"z-score = \" + str(zscore), file = counts_file)\n",
    "\n",
    "for line in counts:\n",
    "    print(str(line), file = counts_file)\n",
    "    \n",
    "counts_file.close()"
   ]
  },
  {
   "cell_type": "code",
   "execution_count": 19,
   "id": "6ddb5cde-61fe-4384-9e85-c88f6b5619b3",
   "metadata": {},
   "outputs": [
    {
     "data": {
      "text/plain": [
       "2.070396111496948"
      ]
     },
     "execution_count": 19,
     "metadata": {},
     "output_type": "execute_result"
    }
   ],
   "source": [
    "zscore"
   ]
  },
  {
   "cell_type": "code",
   "execution_count": 20,
   "id": "a7ed78f4-9f75-4357-a950-34bd7ffa39ac",
   "metadata": {},
   "outputs": [],
   "source": [
    "###Same a above, but now calculating the enrichment in the number of farmers where cooccurring lineages were found...\n",
    "###...independent of the number of such cooccurrences\n",
    "###Number of farmers with shared lineages = 27\n",
    "###Number of non-farmers with shared lineages = 15\n",
    "###Total number of farmers = 64\n",
    "###Total number of non-farmers = 53\n",
    "counts = []\n",
    "\n",
    "for i in range(10000):\n",
    "    iteration = random.choices([\"Farmer\", \"Office\"], weights = (64, 53), k = 42)\n",
    "    counter = 0\n",
    "    \n",
    "    for p in iteration:\n",
    "        if p == \"Farmer\":\n",
    "            counter += 1\n",
    "        \n",
    "    counts.append(counter)\n",
    "    \n",
    "zscore = (27 - statistics.mean(counts))/statistics.stdev(counts)\n",
    "\n",
    "counts_file = open(\"/Users/bejanmahmud/Library/CloudStorage/Box-Box/Bejan's files/Projects/DOME/DOME/Analysis/Metagenome/220221_DOME_fc_all/d17_inStrain_MAGs/Permutations/231008_Farmer-Office_Subjects_FarmerCounts.txt\", \"w\")\n",
    "\n",
    "print(\"Observed number of farmers with shared lineage(s) = 27\", file = counts_file)\n",
    "print(\"z-score = \" + str(zscore), file = counts_file)\n",
    "\n",
    "for line in counts:\n",
    "    print(str(line), file = counts_file)\n",
    "    \n",
    "counts_file.close()"
   ]
  },
  {
   "cell_type": "code",
   "execution_count": 21,
   "id": "04827755-d6c1-45f2-b99e-914c64ddae6e",
   "metadata": {},
   "outputs": [
    {
     "data": {
      "text/plain": [
       "1.255582231816633"
      ]
     },
     "execution_count": 21,
     "metadata": {},
     "output_type": "execute_result"
    }
   ],
   "source": [
    "zscore"
   ]
  },
  {
   "cell_type": "code",
   "execution_count": 104,
   "id": "5a21349a-956f-4147-9624-d83cb1f9e581",
   "metadata": {},
   "outputs": [],
   "source": [
    "###Looking at strains found to be present in farmers/office workers and cows\n",
    "shared_strains = {}\n",
    "shared_strains[\"FC_same\"] = []\n",
    "shared_strains[\"FC_diff\"] = []\n",
    "shared_strains[\"OC_same\"] = []\n",
    "shared_strains[\"OC_diff\"] = []\n",
    "\n",
    "ISC_995 = open(\"/Users/bejanmahmud/Library/CloudStorage/Box-Box/Bejan's files/Projects/DOME/DOME/Analysis/Metagenome/220221_DOME_fc_all/d17_inStrain_MAGs/221118_jointISCompare_genomeWide_compare_ANI995PercComp50filter.txt\", \"r\")\n",
    "ISC_995 = ISC_995.readlines()\n",
    "for line in ISC_995[1:]:\n",
    "    line = line.strip().split(\"\\t\")\n",
    "    \n",
    "    subpair = line[17]\n",
    "    if subpair == \"Office-Cow\":\n",
    "        subpair = \"OC\"\n",
    "    elif subpair == \"Farmer-Cow\":\n",
    "        subpair = \"FC\"\n",
    "    \n",
    "    sites = line[16]\n",
    "    if sites == \"Different sites\":\n",
    "        sites = \"diff\"\n",
    "    elif sites == \"Same site\":\n",
    "        sites = \"same\"\n",
    "    \n",
    "    group = subpair + \"_\" + sites\n",
    "    \n",
    "    strain = line[2]\n",
    "    \n",
    "    if strain not in shared_strains[group]:\n",
    "        shared_strains[group].append(strain)\n",
    "        \n",
    "strain_sharing = {}\n",
    "\n",
    "for line in ISC_995[1:]:\n",
    "    line = line.strip().split(\"\\t\")\n",
    "    \n",
    "    strain = line[2]\n",
    "    \n",
    "    if strain not in strain_sharing.keys():\n",
    "        strain_sharing[strain] = \"\"\n",
    "        \n",
    "        if strain in shared_strains[\"FC_same\"]:\n",
    "            strain_sharing[strain] += \"Y   \"\n",
    "        else:\n",
    "            strain_sharing[strain] += \"N   \"\n",
    "        \n",
    "        if strain in shared_strains[\"FC_diff\"]:\n",
    "            strain_sharing[strain] += \"Y   \"\n",
    "        else:\n",
    "            strain_sharing[strain] += \"N   \"\n",
    "        \n",
    "        if strain in shared_strains[\"OC_same\"]:\n",
    "            strain_sharing[strain] += \"Y   \"\n",
    "        else:\n",
    "            strain_sharing[strain] += \"N   \"\n",
    "            \n",
    "        if strain in shared_strains[\"OC_diff\"]:\n",
    "            strain_sharing[strain] += \"Y\"\n",
    "        else:\n",
    "            strain_sharing[strain] += \"N\""
   ]
  },
  {
   "cell_type": "code",
   "execution_count": 85,
   "id": "83257aea-36fb-44a4-90fe-3728f3857e0c",
   "metadata": {},
   "outputs": [],
   "source": [
    "###Creating a dictionary of all MAG tax IDs\n",
    "MAG_taxID = {}\n",
    "\n",
    "gtdbtk = open(\"/Users/bejanmahmud/Library/CloudStorage/Box-Box/Bejan's files/Projects/DOME/DOME/Analysis/Metagenome/220221_DOME_fc_all/d14_gtdbtk/merged_clasification_summary.txt\", \"r\")\n",
    "gtdbtk = gtdbtk.readlines()\n",
    "for line in gtdbtk[1:]:\n",
    "    line = line.strip().split(\"\\t\")\n",
    "    MAG = line[0]\n",
    "    taxID = line[1]\n",
    "    MAG_taxID[MAG] = taxID"
   ]
  },
  {
   "cell_type": "code",
   "execution_count": 106,
   "id": "f58f6d6b-7b25-460e-8bef-ee2eaaa68b38",
   "metadata": {},
   "outputs": [],
   "source": [
    "###Some sample pairs may use two close MAGs (same species) so the sharing events may be overreported\n",
    "###Looking at the sample1-sample2-MAG tax ID combinations to find potential duplications\n",
    "samplepair_MAGs = open(\"/Users/bejanmahmud/Library/CloudStorage/Box-Box/Bejan's files/Projects/DOME/DOME/Analysis/Metagenome/220221_DOME_fc_all/d17_inStrain_MAGs/221118_SamplePair-MAGtaxID.txt\", \"w\")\n",
    "\n",
    "print(\"Sample1\\tSample2\\tSubject1\\tSubject2\\tMAG\\tShare strain (MAG) tax ID\", file = samplepair_MAGs)\n",
    "\n",
    "for line in ISC_995[1:]:\n",
    "    line = line.strip().split(\"\\t\")\n",
    "    \n",
    "    sample1 = line[0]\n",
    "    sample2 = line[1]\n",
    "    subject1 = line[5]\n",
    "    subject2 = line[10]\n",
    "    strain = line[2].split(\".\")[0]\n",
    "    print(sample1 + \"\\t\" + sample2 + \"\\t\" + subject2 + \"\\t\" + subject1 + \"\\t\" + strain + \"\\t\" + MAG_taxID[strain], file = samplepair_MAGs)\n",
    "    \n",
    "samplepair_MAGs.close()"
   ]
  },
  {
   "cell_type": "code",
   "execution_count": 108,
   "id": "cc7ac896-0e79-4e85-a004-45b92b09e068",
   "metadata": {},
   "outputs": [
    {
     "data": {
      "text/plain": [
       "'d__Bacteria;p__Firmicutes_A;c__Clostridia;o__Lachnospirales;f__Lachnospiraceae;g__Agathobacter;s__Agathobacter rectalis'"
      ]
     },
     "execution_count": 108,
     "metadata": {},
     "output_type": "execute_result"
    }
   ],
   "source": [
    "MAG_taxID[\"10051\"]"
   ]
  },
  {
   "cell_type": "code",
   "execution_count": 40,
   "id": "fbbc5fce-936b-4588-afe1-e411e5930fdb",
   "metadata": {},
   "outputs": [],
   "source": [
    "Farmer_counts = []\n",
    "\n",
    "for i in range(10000):\n",
    "    iteration = random.choices([\"Different\", \"Same\"], weights = (70415, 2260), k = 410)\n",
    "    counter = 0\n",
    "\n",
    "    for p in iteration:\n",
    "        if p == \"Same\":\n",
    "            counter += 1\n",
    "        \n",
    "    Farmer_counts.append(counter)"
   ]
  },
  {
   "cell_type": "code",
   "execution_count": 41,
   "id": "2438f2a8-71d8-45d9-b441-ff09f87f3db4",
   "metadata": {},
   "outputs": [],
   "source": [
    "pval = 0\n",
    "\n",
    "for i in Farmer_counts:\n",
    "    if i >= 46:\n",
    "        pval += 1\n",
    "        \n",
    "pval = pval/len(Farmer_counts)"
   ]
  },
  {
   "cell_type": "code",
   "execution_count": 43,
   "id": "c10ebd34-5218-48b4-ad83-54d5ffc393f5",
   "metadata": {},
   "outputs": [
    {
     "data": {
      "text/plain": [
       "9.539754882597693"
      ]
     },
     "execution_count": 43,
     "metadata": {},
     "output_type": "execute_result"
    }
   ],
   "source": [
    "(46 - statistics.mean(Farmer_counts))/statistics.stdev(Farmer_counts)"
   ]
  },
  {
   "cell_type": "code",
   "execution_count": 42,
   "id": "845ba8ad-74e0-4750-b5e5-4ae623c911d7",
   "metadata": {},
   "outputs": [
    {
     "data": {
      "text/plain": [
       "0.0"
      ]
     },
     "execution_count": 42,
     "metadata": {},
     "output_type": "execute_result"
    }
   ],
   "source": [
    "pval"
   ]
  },
  {
   "cell_type": "code",
   "execution_count": 22,
   "id": "c6566c52-a341-47eb-9f48-548b3037f041",
   "metadata": {},
   "outputs": [
    {
     "data": {
      "text/plain": [
       "[1, 2, 3, 4, 5, 6]"
      ]
     },
     "execution_count": 22,
     "metadata": {},
     "output_type": "execute_result"
    }
   ],
   "source": [
    "test = [1, 2, 3]\n",
    "test += [4, 5, 6]\n",
    "test"
   ]
  },
  {
   "cell_type": "code",
   "execution_count": 23,
   "id": "c2f2dd37-2ef4-4687-a521-0b8924153d5c",
   "metadata": {},
   "outputs": [],
   "source": [
    "test += [7,8,9]"
   ]
  },
  {
   "cell_type": "code",
   "execution_count": 24,
   "id": "bad7b14c-f5a1-4232-91fb-95020bebfe13",
   "metadata": {},
   "outputs": [
    {
     "data": {
      "text/plain": [
       "[1, 2, 3, 4, 5, 6, 7, 8, 9]"
      ]
     },
     "execution_count": 24,
     "metadata": {},
     "output_type": "execute_result"
    }
   ],
   "source": [
    "test"
   ]
  },
  {
   "cell_type": "code",
   "execution_count": 1,
   "id": "d4d7276e-fe53-4a69-84f5-a61f8cfd43b5",
   "metadata": {},
   "outputs": [],
   "source": [
    "fasta_path = \"/Users/bejanmahmud/Library/CloudStorage/Box-Box/Bejan's files/Projects/Breast Microbiome/Analysis/Isolate/09212023/d04_unicycler/joint_assembly.fasta\"\n",
    "two_line = []\n",
    "seq = \"\"\n",
    "with open(fasta_path) as file:\n",
    "    for line in file:\n",
    "        if line.startswith(\">\"):\n",
    "            if seq != \"\":\n",
    "                two_line.append(seq)\n",
    "                seq = \"\"\n",
    "            two_line.append(line.strip())\n",
    "        else:\n",
    "            seq = seq + line.strip()\n",
    "    two_line.append(seq)\n",
    "fasta_2line_path = \"/Users/bejanmahmud/Library/CloudStorage/Box-Box/Bejan's files/Projects/Breast Microbiome/Analysis/Isolate/09212023/d04_unicycler/joint_assembly_2line.fasta\"\n",
    "fasta_2line = open(fasta_2line_path, \"w\")\n",
    "for line in two_line:\n",
    "    print(line, file = fasta_2line)\n",
    "fasta_2line.close()"
   ]
  },
  {
   "cell_type": "code",
   "execution_count": null,
   "id": "1cfcccd7-0aee-415b-ac7a-3d370735d12c",
   "metadata": {},
   "outputs": [],
   "source": []
  }
 ],
 "metadata": {
  "kernelspec": {
   "display_name": "Python 3",
   "language": "python",
   "name": "python3"
  },
  "language_info": {
   "codemirror_mode": {
    "name": "ipython",
    "version": 3
   },
   "file_extension": ".py",
   "mimetype": "text/x-python",
   "name": "python",
   "nbconvert_exporter": "python",
   "pygments_lexer": "ipython3",
   "version": "3.8.8"
  }
 },
 "nbformat": 4,
 "nbformat_minor": 5
}
