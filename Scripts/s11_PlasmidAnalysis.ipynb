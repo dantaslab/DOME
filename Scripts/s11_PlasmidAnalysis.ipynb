{
 "cells": [
  {
   "cell_type": "code",
   "execution_count": null,
   "id": "1ca3be5f-7c2f-4e91-9408-3d802a02c8ff",
   "metadata": {},
   "outputs": [],
   "source": [
    "###This script is for the analysis of the plasmidic contigs"
   ]
  },
  {
   "cell_type": "code",
   "execution_count": 2,
   "id": "fb76000a-58ec-44e0-aa80-9eacfe713231",
   "metadata": {},
   "outputs": [],
   "source": [
    "###Making a list of all plasmidic contigs from Platon\n",
    "######Total of 16,611,961 contigs\n",
    "platon_contigs = []\n",
    "\n",
    "for line in open(\"/Users/bejanmahmud/Library/CloudStorage/Box-Box/Bejan's files/Projects/DOME/DOME/Analysis/Metagenome/220221_DOME_fc_all/d10_platon/AllPlasmid.txt\", \"r\"):\n",
    "    line = line.strip()\n",
    "    platon_contigs.append(line)"
   ]
  },
  {
   "cell_type": "code",
   "execution_count": 4,
   "id": "a26697b1-cd68-4ce8-b095-ffcfd2442721",
   "metadata": {},
   "outputs": [],
   "source": [
    "###Making a list of all plasmidic contigs (prob > 0.5) from PlasClass\n",
    "######Total of 8,179,800 contigs\n",
    "plasclass_contigs = []\n",
    "\n",
    "for line in open(\"/Users/bejanmahmud/Library/CloudStorage/Box-Box/Bejan's files/Projects/DOME/DOME/Analysis/Metagenome/220221_DOME_fc_all/d11_plasclass/AllPlasmid.txt\", \"r\"):\n",
    "    line = line.strip()\n",
    "    plasclass_contigs.append(line)"
   ]
  },
  {
   "cell_type": "code",
   "execution_count": 6,
   "id": "65467a81-e9f9-4059-b8f1-f6ae38eca875",
   "metadata": {},
   "outputs": [],
   "source": [
    "###Making a dictionary with the lengths (values) of all contigs (keys)\n",
    "######Total of 16,769,880 contigs\n",
    "contig_lengths = {}\n",
    "\n",
    "for line in open(\"/Users/bejanmahmud/Library/CloudStorage/Box-Box/Bejan's files/Projects/DOME/DOME/Analysis/Metagenome/220221_DOME_fc_all/d06_megahit_samples/ContigLengths.txt\", \"r\"):\n",
    "    line = line.strip().split(\"\\t\")\n",
    "    contig = line[0]\n",
    "    length = int(line[1])\n",
    "    contig_lengths[contig] = length"
   ]
  },
  {
   "cell_type": "code",
   "execution_count": 10,
   "id": "d451272b-16bb-45e0-b0f1-8ae778b4de9e",
   "metadata": {},
   "outputs": [],
   "source": [
    "###Making a dictionary with the PlasClass probabilities (values) of all contigs (keys)\n",
    "plasclass_probabilities = {}\n",
    "\n",
    "for line in open(\"/Users/bejanmahmud/Library/CloudStorage/Box-Box/Bejan's files/Projects/DOME/DOME/Analysis/Metagenome/220221_DOME_fc_all/d11_plasclass/CombinedOutput.txt\", \"r\"):\n",
    "    line = line.strip().split(\"\\t\")\n",
    "    contig = line[0]\n",
    "    probability = float(line[1])\n",
    "    plasclass_probabilities[contig] = probability"
   ]
  },
  {
   "cell_type": "code",
   "execution_count": 66,
   "id": "f4db3d68-168c-4093-a80c-695a21b6d8ee",
   "metadata": {},
   "outputs": [],
   "source": [
    "###Getting all contigs that have over 0.9 probability (by PlasClass) of being plasmidic and are over 5,000 bp in length\n",
    "plas_cont_09_5K = []\n",
    "\n",
    "for contig in plasclass_contigs:\n",
    "    if plasclass_probabilities[contig] > 0.9 and contig_lengths[contig] > 5000:\n",
    "        plas_cont_09_5K.append(contig)\n",
    "        \n",
    "plas_cont_09_5K_path = \"/Users/bejanmahmud/Library/CloudStorage/Box-Box/Bejan's files/Projects/DOME/DOME/Analysis/Metagenome/220221_DOME_fc_all/d11_plasclass/220720_PlasContigs_09_5K.txt\"\n",
    "plas_cont_09_5K_file = open(plas_cont_09_5K_path, \"w\")\n",
    "\n",
    "for line in plas_cont_09_5K:\n",
    "    print(line.strip(), file = plas_cont_09_5K_file)\n",
    "    \n",
    "plas_cont_09_5K_file.close()"
   ]
  },
  {
   "cell_type": "code",
   "execution_count": 4,
   "id": "2252a2c0-1330-449c-b321-5a7ded406450",
   "metadata": {},
   "outputs": [],
   "source": [
    "###For the Gephi modularity analysis, filtering out the self-module nodes for itterative modularity analysis\n",
    "all_edges = []\n",
    "\n",
    "for line in open(\"/Users/bejanmahmud/Library/CloudStorage/Box-Box/Bejan's files/Projects/DOME/DOME/Analysis/Metagenome/220221_DOME_fc_all/d18_fastani_PlasCont_09_5K/array/220725_edges_20adj.txt\", \"r\"):\n",
    "    if line.startswith(\"19\"):\n",
    "        all_edges.append(line.strip())"
   ]
  },
  {
   "cell_type": "code",
   "execution_count": 69,
   "id": "5a650add-e011-4438-907a-dfb562d5c2c6",
   "metadata": {},
   "outputs": [],
   "source": [
    "moduled_nodes = []\n",
    "\n",
    "for line in open(\"/Users/bejanmahmud/Library/CloudStorage/Box-Box/Bejan's files/Projects/DOME/DOME/Analysis/Metagenome/220221_DOME_fc_all/d18_fastani_PlasCont_09_5K/array/220725_PlasCont_09_5K_250bp_05min_20adj_Modules.txt\", \"r\"):\n",
    "    if line.startswith(\"19\"):\n",
    "        node = line.strip().split(\"\\t\")[0]\n",
    "        moduled_nodes.append(node)"
   ]
  },
  {
   "cell_type": "code",
   "execution_count": 73,
   "id": "3a9d54f8-fde9-439b-9483-e323cbbb68fd",
   "metadata": {},
   "outputs": [],
   "source": [
    "filtered_edges = []\n",
    "\n",
    "for line in all_edges:\n",
    "    node1 = line.strip().split(\"\\t\")[0]\n",
    "    node2 = line.strip().split(\"\\t\")[1]\n",
    "    if node1 not in moduled_nodes and node2 not in moduled_nodes:\n",
    "        filtered_edges.append(line.strip())"
   ]
  },
  {
   "cell_type": "code",
   "execution_count": 75,
   "id": "606d7d92-18e6-4682-aca1-5d54095e0d0c",
   "metadata": {},
   "outputs": [],
   "source": [
    "filtered_edges_path = \"/Users/bejanmahmud/Library/CloudStorage/Box-Box/Bejan's files/Projects/DOME/DOME/Analysis/Metagenome/220221_DOME_fc_all/d18_fastani_PlasCont_09_5K/array/220725_edges_20adj_filtered.txt\"\n",
    "filtered_edges_file = open(filtered_edges_path, \"w\")\n",
    "\n",
    "for line in filtered_edges:\n",
    "    print(line, file = filtered_edges_file)\n",
    "    \n",
    "filtered_edges_file.close()"
   ]
  },
  {
   "cell_type": "code",
   "execution_count": 104,
   "id": "be158373-8f74-4a6f-8c46-06b448edd1d7",
   "metadata": {},
   "outputs": [],
   "source": [
    "temp_modules = {}\n",
    "\n",
    "for line in open(\"/Users/bejanmahmud/Library/CloudStorage/Box-Box/Bejan's files/Projects/DOME/DOME/Analysis/Metagenome/220221_DOME_fc_all/d18_fastani_PlasCont_09_5K/array/220725_tempModules.txt\", \"r\"):\n",
    "    line = line.strip().split()\n",
    "    temp_modules[line[0]] = line[1]"
   ]
  },
  {
   "cell_type": "code",
   "execution_count": 106,
   "id": "4ce2b07e-6dfe-40b4-b751-92a8db44e946",
   "metadata": {},
   "outputs": [],
   "source": [
    "#for itirations\n",
    "for line in open(\"/Users/bejanmahmud/Library/CloudStorage/Box-Box/Bejan's files/Projects/DOME/DOME/Analysis/Metagenome/220221_DOME_fc_all/d18_fastani_PlasCont_09_5K/array/220725_tempModules_v2.txt\", \"r\"):\n",
    "    line = line.strip().split()\n",
    "    temp_modules[line[0]] = line[1]"
   ]
  },
  {
   "cell_type": "code",
   "execution_count": 109,
   "id": "8b8c4186-4cb9-41a8-9447-2c3a3efd07ba",
   "metadata": {},
   "outputs": [],
   "source": [
    "modules_to_remove = []\n",
    "\n",
    "for line in all_edges:\n",
    "    node1 = line.split(\"\\t\")[0]\n",
    "    node2 = line.split(\"\\t\")[1]\n",
    "    if temp_modules[node1] != temp_modules[node2]:\n",
    "        if temp_modules[node1] not in modules_to_remove:\n",
    "            modules_to_remove.append(temp_modules[node1])\n",
    "        if temp_modules[node2] not in modules_to_remove:\n",
    "            modules_to_remove.append(temp_modules[node2])\n",
    "        \n",
    "self_moduled_nodes = []\n",
    "\n",
    "for node in list(temp_modules.keys()):\n",
    "    if temp_modules[node] not in modules_to_remove:\n",
    "        self_moduled_nodes.append(node)"
   ]
  },
  {
   "cell_type": "code",
   "execution_count": 93,
   "id": "62529b26-5e22-4832-9870-d828e84b7b7b",
   "metadata": {},
   "outputs": [],
   "source": [
    "self_moduled_nodes_path = \"/Users/bejanmahmud/Library/CloudStorage/Box-Box/Bejan's files/Projects/DOME/DOME/Analysis/Metagenome/220221_DOME_fc_all/d18_fastani_PlasCont_09_5K/array/220725_PlasCont_09_5K_250bp_05min_20adj_Modules.txt\"\n",
    "self_moduled_nodes_file = open(self_moduled_nodes_path, \"w\")\n",
    "\n",
    "print(\"Id\\tModule\", file = self_moduled_nodes_file)\n",
    "\n",
    "for line in self_moduled_nodes:\n",
    "    print(line.strip() + \"\\t\" + temp_modules[line.strip()], file = self_moduled_nodes_file)\n",
    "    \n",
    "self_moduled_nodes_file.close()"
   ]
  },
  {
   "cell_type": "code",
   "execution_count": 94,
   "id": "2957100e-305d-46e2-a338-e0043b795757",
   "metadata": {},
   "outputs": [],
   "source": [
    "filtered_edges = []\n",
    "\n",
    "for line in all_edges:\n",
    "    node1 = line.strip().split(\"\\t\")[0]\n",
    "    node2 = line.strip().split(\"\\t\")[1]\n",
    "    if node1 not in self_moduled_nodes and node2 not in self_moduled_nodes:\n",
    "        filtered_edges.append(line.strip())\n",
    "        \n",
    "filtered_edges_path = \"/Users/bejanmahmud/Library/CloudStorage/Box-Box/Bejan's files/Projects/DOME/DOME/Analysis/Metagenome/220221_DOME_fc_all/d18_fastani_PlasCont_09_5K/array/220725_edges_20adj_filtered.txt\"\n",
    "filtered_edges_file = open(filtered_edges_path, \"w\")\n",
    "\n",
    "for line in filtered_edges:\n",
    "    print(line, file = filtered_edges_file)\n",
    "    \n",
    "filtered_edges_file.close()"
   ]
  },
  {
   "cell_type": "code",
   "execution_count": 116,
   "id": "0a38679b-a1a3-4654-a505-6614c3ef7bd4",
   "metadata": {},
   "outputs": [],
   "source": [
    "###Filtering through the modules\n",
    "#First, will filter out the modules that house fewer than 4 nodes\n",
    "module_counts = {}\n",
    "\n",
    "for key, value in temp_modules.items():\n",
    "    if value not in module_counts.keys():\n",
    "        module_counts[value] = 1\n",
    "    else:\n",
    "        module_counts[value] += 1"
   ]
  },
  {
   "cell_type": "code",
   "execution_count": 118,
   "id": "76807efd-0eb7-4345-9271-a0f3f9467f24",
   "metadata": {},
   "outputs": [],
   "source": [
    "temp_modules_countFilt = {}\n",
    "\n",
    "for key, value in temp_modules.items():\n",
    "    if module_counts[value] > 3:\n",
    "        temp_modules_countFilt[key] = value"
   ]
  },
  {
   "cell_type": "code",
   "execution_count": 165,
   "id": "6d63dd9c-4fdb-4902-8d5c-14b57fc90d17",
   "metadata": {},
   "outputs": [],
   "source": [
    "#Then, keeping only those nodes within modules that touch (have edges with) at least 25% of the members of the same modules\n",
    "temp_modules_memberFilt = {}\n",
    "\n",
    "for node, module in temp_modules_countFilt.items():\n",
    "    count = 0\n",
    "    for line in all_edges:\n",
    "        if node + \"\\t\" in line:\n",
    "            node1 = line.split(\"\\t\")[0]\n",
    "            node2 = line.split(\"\\t\")[1]\n",
    "            if node1 in temp_modules.keys() and node2 in temp_modules.keys() and temp_modules[node1] == temp_modules[node2]:\n",
    "                count += 1\n",
    "    frac = count/(module_counts[module] - 1)\n",
    "    if frac >= 0.25:\n",
    "        temp_modules_memberFilt[node] = module"
   ]
  },
  {
   "cell_type": "code",
   "execution_count": 166,
   "id": "1cd0bae6-c112-4974-a545-32537f0d782e",
   "metadata": {},
   "outputs": [],
   "source": [
    "#Filtering out modules that house fewer than 4 nodes again\n",
    "module_counts_v2 = {}\n",
    "\n",
    "for key, value in temp_modules_memberFilt.items():\n",
    "    if value not in module_counts_v2.keys():\n",
    "        module_counts_v2[value] = 1\n",
    "    else:\n",
    "        module_counts_v2[value] += 1"
   ]
  },
  {
   "cell_type": "code",
   "execution_count": 171,
   "id": "8b14d978-5209-4881-84ac-949efaef8f82",
   "metadata": {},
   "outputs": [],
   "source": [
    "temp_modules_MemCounFilt = {}\n",
    "\n",
    "for key, value in temp_modules_memberFilt.items():\n",
    "    if module_counts_v2[value] > 3:\n",
    "        temp_modules_MemCounFilt[key] = value"
   ]
  },
  {
   "cell_type": "code",
   "execution_count": 180,
   "id": "f2af16c0-5cf3-4f32-975c-f0fbccf44ff4",
   "metadata": {},
   "outputs": [],
   "source": [
    "temp_modules_MemCounFilt_path = \"/Users/bejanmahmud/Library/CloudStorage/Box-Box/Bejan's files/Projects/DOME/DOME/Analysis/Metagenome/220221_DOME_fc_all/d18_fastani_PlasCont_09_5K/array/220725_PlasCont_09_5K_250bp_05min_20adj_Modules.txt\"\n",
    "temp_modules_MemCounFilt_file = open(temp_modules_MemCounFilt_path, \"w\")\n",
    "\n",
    "for node, module in temp_modules_MemCounFilt.items():\n",
    "    print(node + \"\\t\" + node + \"\\t\" + module, file = temp_modules_MemCounFilt_file)\n",
    "    \n",
    "temp_modules_MemCounFilt_file.close()"
   ]
  },
  {
   "cell_type": "code",
   "execution_count": 177,
   "id": "c16fb673-de38-4332-bfdd-cce1baaf7fb6",
   "metadata": {},
   "outputs": [],
   "source": [
    "filtered_edges = []\n",
    "\n",
    "for line in all_edges:\n",
    "    node1 = line.strip().split(\"\\t\")[0]\n",
    "    node2 = line.strip().split(\"\\t\")[1]\n",
    "    if node1 in temp_modules_MemCounFilt.keys() and node2 in temp_modules_MemCounFilt.keys():\n",
    "        filtered_edges.append(line.strip())\n",
    "        \n",
    "filtered_edges_path = \"/Users/bejanmahmud/Library/CloudStorage/Box-Box/Bejan's files/Projects/DOME/DOME/Analysis/Metagenome/220221_DOME_fc_all/d18_fastani_PlasCont_09_5K/array/220725_edges_20adj_filtered.txt\"\n",
    "filtered_edges_file = open(filtered_edges_path, \"w\")\n",
    "\n",
    "for line in filtered_edges:\n",
    "    print(line, file = filtered_edges_file)\n",
    "    \n",
    "filtered_edges_file.close()"
   ]
  },
  {
   "cell_type": "code",
   "execution_count": 212,
   "id": "11eac663-134d-4d93-8b90-538c2e7d2442",
   "metadata": {},
   "outputs": [],
   "source": [
    "#Filtering out nodes with the ratio of connected within-module nodes to outside-module nodes is lower than 2\n",
    "temp_modules_intermodFilt = {}\n",
    "\n",
    "for node, module in temp_modules_MemCounFilt.items():\n",
    "    within_count = 0\n",
    "    between_count = 0\n",
    "    for line in all_edges:\n",
    "        if node + \"\\t\" in line:\n",
    "            node1 = line.split(\"\\t\")[0]\n",
    "            node2 = line.split(\"\\t\")[1]\n",
    "            if temp_modules[node1] == temp_modules[node2]:\n",
    "                within_count += 1\n",
    "            else:\n",
    "                between_count += 1\n",
    "    if between_count == 0:\n",
    "        temp_modules_intermodFilt[node] = module\n",
    "    else:\n",
    "        ratio = within_count/between_count\n",
    "        if ratio >= 100:\n",
    "            temp_modules_intermodFilt[node] = module"
   ]
  },
  {
   "cell_type": "code",
   "execution_count": 214,
   "id": "76460596-ce55-4897-b528-0ceb24972f42",
   "metadata": {},
   "outputs": [],
   "source": [
    "#Filtering out modules that house fewer than 4 nodes again\n",
    "module_counts_v3 = {}\n",
    "\n",
    "for key, value in temp_modules_intermodFilt.items():\n",
    "    if value not in module_counts_v3.keys():\n",
    "        module_counts_v3[value] = 1\n",
    "    else:\n",
    "        module_counts_v3[value] += 1"
   ]
  },
  {
   "cell_type": "code",
   "execution_count": 215,
   "id": "14593abd-e834-4770-beb9-fbcae3a45dfe",
   "metadata": {},
   "outputs": [],
   "source": [
    "temp_modules_intermodCounFilt = {}\n",
    "\n",
    "for key, value in temp_modules_intermodFilt.items():\n",
    "    if module_counts_v3[value] > 3:\n",
    "        temp_modules_intermodCounFilt[key] = value"
   ]
  },
  {
   "cell_type": "code",
   "execution_count": 217,
   "id": "b6062d1e-81ae-450a-9a98-0414ecc77d0c",
   "metadata": {},
   "outputs": [],
   "source": [
    "temp_modules_intermodCounFilt_path = \"/Users/bejanmahmud/Library/CloudStorage/Box-Box/Bejan's files/Projects/DOME/DOME/Analysis/Metagenome/220221_DOME_fc_all/d18_fastani_PlasCont_09_5K/array/220726_PlasCont_09_5K_250bp_05min_20adj_Modules_IntermodMembCounFilt.txt\"\n",
    "temp_modules_intermodCounFilt_file = open(temp_modules_intermodCounFilt_path, \"w\")\n",
    "\n",
    "for node, module in temp_modules_intermodCounFilt.items():\n",
    "    print(node + \"\\t\" + node + \"\\t\" + module, file = temp_modules_intermodCounFilt_file)\n",
    "    \n",
    "temp_modules_intermodCounFilt_file.close()"
   ]
  },
  {
   "cell_type": "code",
   "execution_count": 218,
   "id": "6a7395b3-7c6e-413b-abf3-13402a06a83c",
   "metadata": {},
   "outputs": [],
   "source": [
    "filtered_edges = []\n",
    "\n",
    "for line in all_edges:\n",
    "    node1 = line.strip().split(\"\\t\")[0]\n",
    "    node2 = line.strip().split(\"\\t\")[1]\n",
    "    if node1 in temp_modules_intermodCounFilt.keys() and node2 in temp_modules_intermodCounFilt.keys():\n",
    "        filtered_edges.append(line.strip())\n",
    "        \n",
    "filtered_edges_path = \"/Users/bejanmahmud/Library/CloudStorage/Box-Box/Bejan's files/Projects/DOME/DOME/Analysis/Metagenome/220221_DOME_fc_all/d18_fastani_PlasCont_09_5K/array/220726_edges_20adj_filtered_IntermodMembCounFilt.txt\"\n",
    "filtered_edges_file = open(filtered_edges_path, \"w\")\n",
    "\n",
    "for line in filtered_edges:\n",
    "    print(line, file = filtered_edges_file)\n",
    "    \n",
    "filtered_edges_file.close()"
   ]
  },
  {
   "cell_type": "code",
   "execution_count": 2,
   "id": "66b98f10-5da4-4f9d-a064-a85b3a1011d1",
   "metadata": {},
   "outputs": [],
   "source": [
    "###The resulting modules and their nodes (17,486) were fed through ForceAtlas2 and Modularity optimization again\n",
    "###The new modules will undergo filtering (as above) in an iterative manner until the final set remains\n",
    "temp_modules = {}\n",
    "\n",
    "for line in open(\"/Users/bejanmahmud/Library/CloudStorage/Box-Box/Bejan's files/Projects/DOME/DOME/Analysis/Metagenome/220221_DOME_fc_all/d18_fastani_PlasCont_09_5K/array/220727_tempModules_v3.txt\", \"r\"):\n",
    "    line = line.strip().split(\"\\t\")\n",
    "    temp_modules[line[0]] = line[1]"
   ]
  },
  {
   "cell_type": "code",
   "execution_count": 6,
   "id": "5e3ee1a1-b73e-44b1-a564-a66a0de24377",
   "metadata": {},
   "outputs": [],
   "source": [
    "#Filtering out modules with fewer than 4 nodes\n",
    "module_counts_v4 = {}\n",
    "\n",
    "for key, value in temp_modules.items():\n",
    "    if value not in module_counts_v4.keys():\n",
    "        module_counts_v4[value] = 1\n",
    "    else:\n",
    "        module_counts_v4[value] += 1"
   ]
  },
  {
   "cell_type": "code",
   "execution_count": 11,
   "id": "9aafd866-570c-49f6-9f19-883be1d92032",
   "metadata": {},
   "outputs": [],
   "source": [
    "final_modules = {}\n",
    "\n",
    "for key, value, in temp_modules.items():\n",
    "    if module_counts_v4[value] > 3:\n",
    "        final_modules[key] = value"
   ]
  },
  {
   "cell_type": "code",
   "execution_count": 14,
   "id": "abd6379c-3c45-4b26-a96d-5dea097cccb4",
   "metadata": {},
   "outputs": [],
   "source": [
    "final_modules_path = \"/Users/bejanmahmud/Library/CloudStorage/Box-Box/Bejan's files/Projects/DOME/DOME/Analysis/Metagenome/220221_DOME_fc_all/d18_fastani_PlasCont_09_5K/array/220727_PlasCont_09_5K_250bp_05min_20adj_IntermodMembCounFilt_Modules.txt\"\n",
    "final_modules_file = open(final_modules_path, \"w\")\n",
    "\n",
    "for node, module in final_modules.items():\n",
    "    print(node + \"\\t\" + node + \"\\t\" + module, file = final_modules_file)\n",
    "    \n",
    "final_modules_file.close()"
   ]
  },
  {
   "cell_type": "code",
   "execution_count": 16,
   "id": "c5307b15-6b59-4f96-9d7a-e5cd92549248",
   "metadata": {},
   "outputs": [],
   "source": [
    "final_edges = []\n",
    "\n",
    "for line in all_edges:\n",
    "    node1 = line.strip().split(\"\\t\")[0]\n",
    "    node2 = line.strip().split(\"\\t\")[1]\n",
    "    if node1 in final_modules.keys() and node2 in final_modules.keys():\n",
    "        final_edges.append(line.strip())\n",
    "        \n",
    "final_edges_path = \"/Users/bejanmahmud/Library/CloudStorage/Box-Box/Bejan's files/Projects/DOME/DOME/Analysis/Metagenome/220221_DOME_fc_all/d18_fastani_PlasCont_09_5K/array/220727_PlasCont_09_5K_250bp_05min_20adj_IntermodMembCounFilt_Edges.txt\"\n",
    "final_edges_file = open(final_edges_path, \"w\")\n",
    "\n",
    "for line in final_edges:\n",
    "    print(line, file = final_edges_file)\n",
    "    \n",
    "final_edges_file.close()"
   ]
  },
  {
   "cell_type": "code",
   "execution_count": 59,
   "id": "9270d9f5-677c-4fa2-9dc6-804a8dd7e5f9",
   "metadata": {},
   "outputs": [],
   "source": [
    "###Looking at all edges independent of modules\n",
    "######Looking at edges with >=99% ANI\n",
    "ani99_edges = []\n",
    "\n",
    "for line in all_edges:\n",
    "    ani = line.strip().split(\"\\t\")[3]\n",
    "    cov = line.strip().split(\"\\t\")[4]\n",
    "    if float(ani) >= 99.999 and float(cov) >= 0.5:\n",
    "        ani99_edges.append(line)"
   ]
  },
  {
   "cell_type": "code",
   "execution_count": 61,
   "id": "177eaf9d-479a-4068-af8e-9cb6f2e981e1",
   "metadata": {},
   "outputs": [
    {
     "name": "stdout",
     "output_type": "stream",
     "text": [
      "CC: 510\n",
      "WW: 228\n",
      "DD: 133\n",
      "CW: 96\n",
      "CD: 12\n",
      "DW: 280\n"
     ]
    }
   ],
   "source": [
    "CC = 0\n",
    "WW = 0\n",
    "DD = 0\n",
    "CW = 0\n",
    "CD = 0\n",
    "DW = 0\n",
    "\n",
    "for line in ani99_edges:\n",
    "    line = line.strip().split(\"\\t\")\n",
    "    subject1 = line[0].split(\"-\")[1]\n",
    "    subject2 = line[1].split(\"-\")[1]\n",
    "    sub1 = line[0].split(\"-\")[1][0]\n",
    "    sub2 = line[1].split(\"-\")[1][0]\n",
    "    if subject1 != subject2:\n",
    "        if sub1 == \"C\" and sub2 == \"C\":\n",
    "            CC += 1\n",
    "        elif sub1 == \"W\" and sub2 == \"W\":\n",
    "            WW += 1\n",
    "        elif sub1 == \"D\" and sub2 == \"D\":\n",
    "            DD += 1\n",
    "        elif sub1 == \"C\" and sub2 == \"W\":\n",
    "            CW += 1\n",
    "        elif sub1 == \"W\" and sub2 == \"C\":\n",
    "            CW += 1\n",
    "        elif sub1 == \"C\" and sub2 == \"D\":\n",
    "            CD += 1\n",
    "        elif sub1 == \"D\" and sub2 == \"C\":\n",
    "            CD += 1\n",
    "        elif sub1 == \"D\" and sub2 == \"W\":\n",
    "            DW += 1\n",
    "        elif sub1 == \"W\" and sub2 == \"D\":\n",
    "            DW += 1\n",
    "        \n",
    "print(\"CC: \" + str(CC))\n",
    "print(\"WW: \" + str(WW))\n",
    "print(\"DD: \" + str(DD))\n",
    "print(\"CW: \" + str(CW))\n",
    "print(\"CD: \" + str(CD))\n",
    "print(\"DW: \" + str(DW))"
   ]
  },
  {
   "cell_type": "code",
   "execution_count": 60,
   "id": "4204ee98-48ec-4845-a759-1bc61534b3a5",
   "metadata": {},
   "outputs": [
    {
     "data": {
      "text/plain": [
       "2158"
      ]
     },
     "execution_count": 60,
     "metadata": {},
     "output_type": "execute_result"
    }
   ],
   "source": [
    "len(ani99_edges)"
   ]
  },
  {
   "cell_type": "code",
   "execution_count": 62,
   "id": "7f1eb03f-4983-44ed-8650-f6088679ece4",
   "metadata": {},
   "outputs": [
    {
     "name": "stdout",
     "output_type": "stream",
     "text": [
      "19-C0205-W001fc01_k141_100299\t19-W0402-S001fc01_k141_28782\t14882\t100\t1\n",
      "19-C0205-W001fc01_k141_100299\t19-W0402-S001fc01_k141_2933\t14883\t100\t1\n",
      "19-C0205-W001fc01_k141_100299\t19-W0402-W001fc01_k141_75108\t14884\t100\t1\n",
      "19-C0205-W001fc01_k141_122731\t19-W0402-P001fc01_k141_57484\t16488\t100\t1\n",
      "19-C0205-W001fc01_k141_122731\t19-W0402-P001fc01_k141_65475\t16489\t100\t1\n",
      "19-C0205-W001fc01_k141_122731\t19-W0402-P001fc01_k141_75157\t16490\t100\t1\n",
      "19-C0205-W001fc01_k141_139991\t19-W0402-S001fc01_k141_57325\t17974\t100\t1\n",
      "19-C0205-W001fc01_k141_144454\t19-W0402-W001fc01_k141_78746\t21188\t100\t1\n",
      "19-W0110-F001fc01_k141_54855\t19-C0416-F001fc01_k141_181007\t21274\t100\t1\n",
      "19-C0205-W001fc01_k141_1496\t19-W0402-S001fc01_k141_20368\t21619\t100\t1\n",
      "19-C0205-W001fc01_k141_1496\t19-W0402-W001fc01_k141_111535\t21624\t100\t1\n",
      "19-C0205-W001fc01_k141_155733\t19-W0402-V102fc01_k141_69871\t21679\t100\t1\n",
      "19-C0205-W001fc01_k141_155733\t19-W0402-V401fc01_k141_59267\t21680\t100\t1\n",
      "19-C0205-W001fc01_k141_155733\t19-W0402-P001fc01_k141_3442\t21681\t100\t1\n",
      "19-C0205-W001fc01_k141_33435\t19-W0402-S001fc01_k141_65096\t48071\t100\t1\n",
      "19-C0205-W001fc01_k141_35988\t19-W0402-P001fc01_k141_69546\t48332\t100\t1\n",
      "19-C0205-W001fc01_k141_35988\t19-W0402-S001fc01_k141_42517\t48333\t100\t1\n",
      "19-C0205-W001fc01_k141_35988\t19-W0402-W001fc01_k141_140563\t48335\t100\t1\n",
      "19-C0205-W001fc01_k141_44262\t19-W0402-S001fc01_k141_11267\t49406\t100\t1\n",
      "19-C0205-W001fc01_k141_44262\t19-W0402-P001fc01_k141_430\t49407\t100\t1\n",
      "19-C0205-W001fc01_k141_63338\t19-W0111-P001fc01_k141_24562\t49922\t100\t1\n",
      "19-C0205-W001fc01_k141_99486\t19-W0103-V102fc01_k141_40506\t51939\t100\t1\n",
      "19-W0104-V401fc01_k141_46873\t19-C0404-W001fc01_k141_47472\t57915\t100\t1\n",
      "19-W0104-W001fc01_k141_48550\t19-C0404-W001fc01_k141_14131\t59394\t100\t1\n",
      "19-W0104-V102fc01_k141_13737\t19-C0404-W001fc01_k141_14131\t59401\t100\t1\n",
      "19-W0104-S001fc01_k141_164375\t19-C0404-W001fc01_k141_14131\t59407\t100\t1\n",
      "19-C0416-F001fc01_k141_49410\t19-W0110-F001fc01_k141_63666\t84941\t99.9992\t0.999840026\n",
      "19-C0404-W001fc01_k141_111611\t19-W0104-V102fc01_k141_88381\t91266\t100\t1\n",
      "19-C0404-W001fc01_k141_111611\t19-W0104-W001fc01_k141_56376\t91267\t100\t1\n",
      "19-C0404-W001fc01_k141_111611\t19-W0104-P001fc01_k141_54432\t91268\t100\t1\n",
      "19-C0404-W001fc01_k141_111611\t19-W0104-S001fc01_k141_144298\t91269\t100\t1\n",
      "19-C0404-W001fc01_k141_111611\t19-W0104-V401fc01_k141_4734\t91270\t100\t1\n",
      "19-C0404-W001fc01_k141_11342\t19-W0104-P001fc01_k141_78337\t91442\t100\t1\n",
      "19-C0404-W001fc01_k141_18623\t19-W0104-P001fc01_k141_66231\t91469\t100\t1\n",
      "19-C0404-W001fc01_k141_19796\t19-W0104-W001fc01_k141_102146\t91513\t100\t1\n",
      "19-C0404-W001fc01_k141_20703\t19-W0104-P001fc01_k141_49211\t91545\t100\t1\n",
      "19-C0404-W001fc01_k141_50308\t19-W0126-V201fc01_k141_84132\t92362\t100\t1\n",
      "19-C0404-W001fc01_k141_50308\t19-W0104-S001fc01_k141_66806\t92364\t100\t1\n",
      "19-C0404-W001fc01_k141_50308\t19-W0104-V401fc01_k141_54446\t92365\t100\t1\n",
      "19-C0404-W001fc01_k141_50308\t19-W0121-F001fc01_k141_2603\t92366\t100\t1\n",
      "19-W0104-V102fc01_k141_10593\t19-C0404-W001fc01_k141_93074\t100318\t100\t1\n",
      "19-C0404-W001fc01_k141_5352\t19-W0104-V102fc01_k141_140386\t100385\t100\t1\n",
      "19-C0404-W001fc01_k141_5352\t19-W0104-W001fc01_k141_100955\t100387\t100\t1\n",
      "19-C0404-W001fc01_k141_53850\t19-W0104-V401fc01_k141_32729\t100413\t100\t1\n",
      "19-C0404-W001fc01_k141_67426\t19-W0104-S001fc01_k141_121478\t100474\t100\t1\n",
      "19-C0404-W001fc01_k141_67426\t19-W0104-V102fc01_k141_46739\t100476\t100\t1\n",
      "19-C0404-W001fc01_k141_67426\t19-W0104-W001fc01_k141_19760\t100477\t100\t1\n",
      "19-C0404-W001fc01_k141_74190\t19-W0104-W001fc01_k141_50982\t100537\t100\t1\n",
      "19-C0404-W001fc01_k141_74190\t19-W0104-P001fc01_k141_69674\t100538\t100\t1\n",
      "19-C0404-W001fc01_k141_74477\t19-W0104-V102fc01_k141_149353\t100591\t100\t1\n",
      "19-C0404-W001fc01_k141_74477\t19-W0104-W001fc01_k141_72562\t100592\t99.99935\t0.999870017\n",
      "19-C0404-W001fc01_k141_89022\t19-W0104-V102fc01_k141_148344\t100680\t100\t1\n",
      "19-C0404-W001fc01_k141_93875\t19-W0104-V102fc01_k141_51925\t100808\t100\t1\n",
      "19-C0404-W001fc01_k141_93875\t19-W0104-S001fc01_k141_37120\t100809\t100\t1\n",
      "19-C0404-W001fc01_k141_93875\t19-W0104-W001fc01_k141_104864\t100810\t100\t1\n",
      "19-C0416-F001fc01_k141_101341\t19-W0110-F001fc01_k141_66976\t106014\t100\t1\n",
      "19-C0416-F001fc01_k141_110094\t19-W0210-P001fc01_k141_22499\t106323\t100\t1\n",
      "19-W0110-S001fc01_k141_33343\t19-C0416-F001fc01_k141_181133\t108297\t100\t1\n",
      "19-C0416-F001fc01_k141_127270\t19-W0110-F001fc01_k141_22368\t115626\t100\t1\n",
      "19-C0416-F001fc01_k141_127551\t19-W0210-S001fc01_k141_18212\t115636\t100\t1\n",
      "19-C0416-F001fc01_k141_127551\t19-W0110-P001fc01_k141_90081\t115637\t100\t1\n",
      "19-C0416-F001fc01_k141_127551\t19-W0110-F001fc01_k141_22871\t115638\t100\t1\n",
      "19-C0416-F001fc01_k141_15122\t19-W0110-F001fc01_k141_48906\t117754\t100\t1\n",
      "19-C0416-F001fc01_k141_158660\t19-W0210-P001fc01_k141_82949\t118122\t100\t1\n",
      "19-C0416-F001fc01_k141_160513\t19-W0110-P001fc01_k141_68152\t118263\t100\t1\n",
      "19-W0110-P001fc01_k141_19392\t19-C0416-F001fc01_k141_45074\t119662\t100\t1\n",
      "19-C0416-F001fc01_k141_169572\t19-W0124-S001fc01_k141_41489\t119798\t100\t1\n",
      "19-C0416-F001fc01_k141_180565\t19-W0210-F001fc01_k141_127056\t120375\t100\t1\n",
      "19-C0416-F001fc01_k141_180565\t19-W0110-V401fc01_k141_54665\t120376\t100\t1\n",
      "19-C0416-F001fc01_k141_180565\t19-W0110-S001fc01_k141_63273\t120377\t100\t1\n",
      "19-C0416-F001fc01_k141_180565\t19-W0210-V401fc01_k141_111872\t120378\t100\t1\n",
      "19-C0416-F001fc01_k141_180565\t19-W0110-F001fc01_k141_95497\t120379\t100\t1\n",
      "19-C0416-F001fc01_k141_181133\t19-W0110-F001fc01_k141_36504\t120519\t100\t1\n",
      "19-C0416-F001fc01_k141_181133\t19-W0110-F001fc01_k141_39218\t120520\t100\t1\n",
      "19-W0110-V401fc01_k141_30737\t19-C0416-F001fc01_k141_45074\t121090\t100\t1\n",
      "19-C0416-F001fc01_k141_190772\t19-W0402-S001fc01_k141_39599\t122663\t100\t1\n",
      "19-C0416-F001fc01_k141_190772\t19-W0112-S001fc01_k141_149419\t122664\t100\t1\n",
      "19-C0416-F001fc01_k141_190772\t19-W0110-F001fc01_k141_40049\t122665\t100\t1\n",
      "19-C0416-F001fc01_k141_190772\t19-W0104-V102fc01_k141_43882\t122666\t100\t1\n",
      "19-C0416-F001fc01_k141_193768\t19-W0110-S001fc01_k141_27111\t123095\t100\t1\n",
      "19-C0416-F001fc01_k141_40917\t19-W0110-S001fc01_k141_13777\t130779\t100\t1\n",
      "19-C0416-F001fc01_k141_43831\t19-W0110-P001fc01_k141_78046\t132811\t100\t1\n",
      "19-C0416-F001fc01_k141_48145\t19-W0110-P001fc01_k141_27687\t133555\t100\t1\n",
      "19-C0416-F001fc01_k141_4833\t19-W0110-F001fc01_k141_27584\t133765\t100\t1\n",
      "19-C0416-F001fc01_k141_48484\t19-W0110-F001fc01_k141_31666\t134278\t100\t1\n",
      "19-C0416-F001fc01_k141_48484\t19-W0103-W001fc01_k141_52520\t134279\t100\t1\n",
      "19-C0416-F001fc01_k141_48484\t19-W0117-V301fc01_k141_36525\t134280\t100\t1\n",
      "19-C0416-F001fc01_k141_65326\t19-W0110-F001fc01_k141_10885\t134790\t99.9991\t0.999820032\n",
      "19-C0416-F001fc01_k141_81405\t19-W0110-S001fc01_k141_19003\t136520\t99.9999\t0.99998\n",
      "19-C0416-F001fc01_k141_81405\t19-W0110-V401fc01_k141_7638\t136521\t99.9997\t0.999940004\n",
      "19-C0210-P001fc01_k141_68456\t19-W0402-P001fc01_k141_75157\t232239\t100\t1\n",
      "19-C0210-P001fc01_k141_68456\t19-W0402-P001fc01_k141_67127\t232241\t100\t1\n",
      "19-C0105-W001fc01_k141_142455\t19-W0104-W001fc01_k141_27778\t235340\t100\t1\n",
      "19-C0107-F001fc01_k141_57311\t19-W0114-V401fc01_k141_79843\t254302\t99.99915\t0.999830029\n",
      "19-C0416-F001fc01_k141_126417\t19-W0114-V401fc01_k141_79843\t254527\t100\t1\n",
      "19-C0416-F001fc01_k141_126218\t19-W0141-V101fc01_k141_919\t255710\t100\t1\n"
     ]
    }
   ],
   "source": [
    "for line in ani99_edges:\n",
    "    line = line.strip().split(\"\\t\")\n",
    "    sub1 = line[0].split(\"-\")[1][0]\n",
    "    sub2 = line[1].split(\"-\")[1][0]\n",
    "    \n",
    "    if sub1 + sub2 == \"CW\" or sub1 + sub2 == \"WC\":\n",
    "        print(\"\\t\".join(line))"
   ]
  },
  {
   "cell_type": "code",
   "execution_count": null,
   "id": "fe919dd7-6ece-46cd-85e0-c9edad5032bc",
   "metadata": {},
   "outputs": [],
   "source": []
  }
 ],
 "metadata": {
  "kernelspec": {
   "display_name": "Python 3",
   "language": "python",
   "name": "python3"
  },
  "language_info": {
   "codemirror_mode": {
    "name": "ipython",
    "version": 3
   },
   "file_extension": ".py",
   "mimetype": "text/x-python",
   "name": "python",
   "nbconvert_exporter": "python",
   "pygments_lexer": "ipython3",
   "version": "3.8.8"
  }
 },
 "nbformat": 4,
 "nbformat_minor": 5
}
