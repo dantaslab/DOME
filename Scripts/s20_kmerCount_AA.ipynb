{
 "cells": [
  {
   "cell_type": "code",
   "execution_count": null,
   "id": "ecd5f44f-30ea-449b-b168-b2ec73c5f51a",
   "metadata": {},
   "outputs": [],
   "source": []
  },
  {
   "cell_type": "code",
   "execution_count": 4,
   "id": "12027028-52f6-4bd2-9fbc-da5b51843105",
   "metadata": {},
   "outputs": [],
   "source": [
    "kmers = {}\n",
    "\n",
    "input_file = open(\"/Users/bejanmahmud/Library/CloudStorage/Box-Box/Bejan's files/Projects/DOME/DOME/Analysis/Metagenome/220221_DOME_fc_all/d25_bakta_samples/19-C0204-V401fc01/19-C0204-V401fc01.faa\", \"r\")\n",
    "\n",
    "for line in input_file:\n",
    "    if not line.startswith(\">\"):\n",
    "        line = line.strip()\n",
    "        if len(line) > 11:\n",
    "            n = 0\n",
    "            while (n + 12) <= len(line):\n",
    "                kmer = line[0+n:12+n]\n",
    "                if kmer in kmers.keys():\n",
    "                    kmers[kmer] += 1\n",
    "                else:\n",
    "                    kmers[kmer] = 1\n",
    "                n += 1"
   ]
  },
  {
   "cell_type": "code",
   "execution_count": 16,
   "id": "15072813-60aa-4eec-abbd-1931f344862f",
   "metadata": {},
   "outputs": [],
   "source": [
    "kmer_sizes = [8, 9, 10, 11, 12]\n",
    "\n",
    "kmers = {}\n",
    "\n",
    "input_file = open(\"/Users/bejanmahmud/Library/CloudStorage/Box-Box/Bejan's files/Projects/DOME/DOME/Analysis/Metagenome/220221_DOME_fc_all/d25_bakta_samples/19-C0204-V401fc01/19-C0204-V401fc01.faa\", \"r\")\n",
    "\n",
    "for line in input_file:\n",
    "    if not line.startswith(\">\"):\n",
    "        line = line.strip()\n",
    "        for size in kmer_sizes:\n",
    "            if len(line) > size - 1:\n",
    "                n = 0\n",
    "                while (n + size) <= len(line):\n",
    "                    kmer = line[0+n:size+n]\n",
    "                    if kmer in kmers.keys():\n",
    "                        kmers[kmer] += 1\n",
    "                    else:\n",
    "                        kmers[kmer] = 1\n",
    "                    n += 1\n",
    "                \n",
    "input_file.close()"
   ]
  },
  {
   "cell_type": "code",
   "execution_count": 20,
   "id": "6f5353c1-3b4c-455f-9d60-0bf645bb32ae",
   "metadata": {},
   "outputs": [
    {
     "data": {
      "text/plain": [
       "34"
      ]
     },
     "execution_count": 20,
     "metadata": {},
     "output_type": "execute_result"
    }
   ],
   "source": [
    "max(kmers.values())"
   ]
  },
  {
   "cell_type": "code",
   "execution_count": 22,
   "id": "6f54a1b8-a11d-409c-a3ef-14b2adfdcf6c",
   "metadata": {},
   "outputs": [
    {
     "name": "stdout",
     "output_type": "stream",
     "text": [
      "QRVAIARA\n"
     ]
    }
   ],
   "source": [
    "for key, value in kmers.items():\n",
    "    if value == 34:\n",
    "        print(key)"
   ]
  },
  {
   "cell_type": "code",
   "execution_count": null,
   "id": "9ad20b69-4b06-4dfd-86b0-e95b393b8e53",
   "metadata": {},
   "outputs": [],
   "source": []
  }
 ],
 "metadata": {
  "kernelspec": {
   "display_name": "Python 3",
   "language": "python",
   "name": "python3"
  },
  "language_info": {
   "codemirror_mode": {
    "name": "ipython",
    "version": 3
   },
   "file_extension": ".py",
   "mimetype": "text/x-python",
   "name": "python",
   "nbconvert_exporter": "python",
   "pygments_lexer": "ipython3",
   "version": "3.8.8"
  }
 },
 "nbformat": 4,
 "nbformat_minor": 5
}
