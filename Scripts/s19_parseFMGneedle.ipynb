{
 "cells": [
  {
   "cell_type": "code",
   "execution_count": 1,
   "id": "9c29b510-bff3-43dd-9853-38df839d769a",
   "metadata": {},
   "outputs": [],
   "source": [
    "###This script parses through the EMBOSS Needle identities of FMG hits and outputs a single file for visualization in R"
   ]
  },
  {
   "cell_type": "code",
   "execution_count": 2,
   "id": "9a93c476-a134-45e9-afce-eb5e67112ec0",
   "metadata": {},
   "outputs": [],
   "source": [
    "ARG_identities = {}\n",
    "\n",
    "for line in open(\"/Users/bejanmahmud/Library/CloudStorage/Box-Box/Bejan's files/Projects/DOME/DOME/Analysis/Metagenome/220221_DOME_fc_all/d19_needle/220818_FMG-ARG_identites.txt\", \"r\"):\n",
    "    if line.startswith(\"Sample\"):\n",
    "        continue\n",
    "    else:\n",
    "        line = line.strip().split(\"\\t\")\n",
    "        sample = line[0]\n",
    "        iden = line[1]\n",
    "        ARG_identities[sample] = iden"
   ]
  },
  {
   "cell_type": "code",
   "execution_count": 4,
   "id": "b0c3caa4-a2a7-4dbd-b39e-50f0d7caca41",
   "metadata": {},
   "outputs": [],
   "source": [
    "NCBI_identities = {}\n",
    "\n",
    "for line in open(\"/Users/bejanmahmud/Library/CloudStorage/Box-Box/Bejan's files/Projects/DOME/DOME/Analysis/Metagenome/220221_DOME_fc_all/d19_needle/220818_FMG-NCBI_identites.txt\", \"r\"):\n",
    "    if line.startswith(\"Sample\"):\n",
    "        continue\n",
    "    else:\n",
    "        line = line.strip().split(\"\\t\")\n",
    "        sample = line[0]\n",
    "        iden = line[1]\n",
    "        NCBI_identities[sample] = iden"
   ]
  },
  {
   "cell_type": "code",
   "execution_count": 7,
   "id": "6c02ef75-0bc0-466f-a3a8-e93ac839a394",
   "metadata": {},
   "outputs": [],
   "source": [
    "FMGlib_sources = {}\n",
    "\n",
    "FMGlib_sources['1'] = \"C\"\n",
    "FMGlib_sources['2'] = \"C\"\n",
    "FMGlib_sources['3'] = \"C\"\n",
    "FMGlib_sources['4'] = \"C\"\n",
    "FMGlib_sources['5'] = \"C\"\n",
    "FMGlib_sources['6'] = \"C\"\n",
    "FMGlib_sources['7'] = \"C\"\n",
    "FMGlib_sources['8'] = \"C\"\n",
    "FMGlib_sources['9'] = \"D\"\n",
    "FMGlib_sources['10'] = \"D\"\n",
    "FMGlib_sources['11'] = \"W\"\n",
    "FMGlib_sources['12'] = \"W\"\n",
    "FMGlib_sources['13'] = \"W\""
   ]
  },
  {
   "cell_type": "code",
   "execution_count": 14,
   "id": "9cba310b-c114-4e4c-944b-5d7fea538c49",
   "metadata": {},
   "outputs": [],
   "source": [
    "mapping_allFMG = []\n",
    "\n",
    "mapping_allFMG.append(\"Sample\\tNCBI\\tARG\\tSource\")\n",
    "\n",
    "for key, value in NCBI_identities.items():\n",
    "    library = key.split(\"_\")[2]\n",
    "    library = library.split(\"-\")[0]\n",
    "    library = library[1:]\n",
    "    if key not in ARG_identities.keys():\n",
    "        mapping_allFMG.append(key + \"\\t\" + value + \"\\t0.0\\t\" + FMGlib_sources[library])\n",
    "    else:\n",
    "        mapping_allFMG.append(key + \"\\t\" + value + \"\\t\" + ARG_identities[key] + \"\\t\" + FMGlib_sources[library])"
   ]
  },
  {
   "cell_type": "code",
   "execution_count": 16,
   "id": "e21e36c3-8e2e-4d85-b55b-3b58a3e7db04",
   "metadata": {},
   "outputs": [],
   "source": [
    "mapping_allFMG_path = \"/Users/bejanmahmud/Library/CloudStorage/Box-Box/Bejan's files/Projects/DOME/DOME/Analysis/Metagenome/220221_DOME_fc_all/d19_needle/220818_FMG-NCBI-ARG_identities.txt\"\n",
    "mapping_allFMG_file = open(mapping_allFMG_path, \"w\")\n",
    "\n",
    "for line in mapping_allFMG:\n",
    "    print(line, file = mapping_allFMG_file)\n",
    "    \n",
    "mapping_allFMG_file.close()"
   ]
  },
  {
   "cell_type": "code",
   "execution_count": null,
   "id": "6070a0f5-9e1c-4ef0-bbd6-b251ecf63042",
   "metadata": {},
   "outputs": [],
   "source": []
  }
 ],
 "metadata": {
  "kernelspec": {
   "display_name": "Python 3",
   "language": "python",
   "name": "python3"
  },
  "language_info": {
   "codemirror_mode": {
    "name": "ipython",
    "version": 3
   },
   "file_extension": ".py",
   "mimetype": "text/x-python",
   "name": "python",
   "nbconvert_exporter": "python",
   "pygments_lexer": "ipython3",
   "version": "3.8.8"
  }
 },
 "nbformat": 4,
 "nbformat_minor": 5
}
