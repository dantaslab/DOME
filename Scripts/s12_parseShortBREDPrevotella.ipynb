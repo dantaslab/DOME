{
 "cells": [
  {
   "cell_type": "code",
   "execution_count": null,
   "id": "5529a472-5a20-46d9-a675-5f7a0890932e",
   "metadata": {},
   "outputs": [],
   "source": [
    "###This script is to parse through the shortBRED hits that were identified in the Prevotella MAGs"
   ]
  },
  {
   "cell_type": "code",
   "execution_count": 1,
   "id": "4fef5d91-a9b8-4cd9-9507-a466d39b0715",
   "metadata": {},
   "outputs": [],
   "source": [
    "###Making a dictionary of the abx classes for all shortBRED hits\n",
    "abxClasses = {}\n",
    "\n",
    "for line in open(\"/Users/bejanmahmud/Library/CloudStorage/Box-Box/Bejan's files/Projects/ShortBRED/shortBRED-identify/220529/Mapping/all_annot_AbxClass.txt\", \"r\"):\n",
    "    line = line.strip().split(\"\\t\")\n",
    "    hit = line[0]\n",
    "    annot = line[1]\n",
    "    abxClasses[hit] = annot"
   ]
  },
  {
   "cell_type": "code",
   "execution_count": 5,
   "id": "7cd1c530-ab73-4111-828e-6d5e2201aa1f",
   "metadata": {},
   "outputs": [],
   "source": [
    "###Making a dictionary of the subjects from which MAGs were assembled\n",
    "MAG_subjects = {}\n",
    "\n",
    "for line in open(\"/Users/bejanmahmud/Library/CloudStorage/Box-Box/Bejan's files/Projects/DOME/DOME/Analysis/Metagenome/220221_DOME_fc_all/d07_bin/dastool/allbins_noUnbin/MAG_subjects.txt\", \"r\"):\n",
    "    line = line.strip().split(\"\\t\")\n",
    "    MAG = line[0].split(\".\")[0]\n",
    "    subject = line[1]\n",
    "    MAG_subjects[MAG] = subject"
   ]
  },
  {
   "cell_type": "code",
   "execution_count": 8,
   "id": "98f14155-a948-4e8c-b997-bb90fede22c9",
   "metadata": {},
   "outputs": [],
   "source": [
    "###Going through the Prevotella MAGs shortbred annotation to get the subject of origin and abx class\n",
    "Prevotella_shortBRED = []\n",
    "\n",
    "for line in open(\"/Users/bejanmahmud/Library/CloudStorage/Box-Box/Bejan's files/Projects/DOME/DOME/Analysis/Metagenome/220221_DOME_fc_all/d12_shortbred_Prevotella/combined_shortBRED_Prevotella_edited.txt\", \"r\"):\n",
    "    if line .startswith(\"MAGs\"):\n",
    "        continue\n",
    "    else:\n",
    "        line = line.strip().split(\"\\t\")\n",
    "        MAG = line[0]\n",
    "        ARG = line[1]\n",
    "        count = line[2]\n",
    "        subject = MAG_subjects[MAG]\n",
    "        abxClass = abxClasses[ARG]\n",
    "        Prevotella_shortBRED.append(MAG + \"\\t\" + subject + \"\\t\" + abxClass + \"\\t\" + ARG + \"\\t\" + count)"
   ]
  },
  {
   "cell_type": "code",
   "execution_count": 10,
   "id": "0b8e388d-4d0b-41b8-8d81-8ce2deebc65d",
   "metadata": {},
   "outputs": [],
   "source": [
    "Prevotella_shortBRED_file = open(\"/Users/bejanmahmud/Library/CloudStorage/Box-Box/Bejan's files/Projects/DOME/DOME/Analysis/Metagenome/220221_DOME_fc_all/d12_shortbred_Prevotella/combined_shortBRED_Prevotella_edited.txt\", \"w\")\n",
    "\n",
    "print(\"MAG\\tSubject\\tAbxClass\\tARG\\tCount\", file = Prevotella_shortBRED_file)\n",
    "\n",
    "for line in Prevotella_shortBRED:\n",
    "    print(line.strip(), file = Prevotella_shortBRED_file)\n",
    "    \n",
    "Prevotella_shortBRED_file.close()"
   ]
  },
  {
   "cell_type": "code",
   "execution_count": null,
   "id": "f2d15fa5-6978-47bb-81ca-107e635e975b",
   "metadata": {},
   "outputs": [],
   "source": []
  }
 ],
 "metadata": {
  "kernelspec": {
   "display_name": "Python 3",
   "language": "python",
   "name": "python3"
  },
  "language_info": {
   "codemirror_mode": {
    "name": "ipython",
    "version": 3
   },
   "file_extension": ".py",
   "mimetype": "text/x-python",
   "name": "python",
   "nbconvert_exporter": "python",
   "pygments_lexer": "ipython3",
   "version": "3.8.8"
  }
 },
 "nbformat": 4,
 "nbformat_minor": 5
}
