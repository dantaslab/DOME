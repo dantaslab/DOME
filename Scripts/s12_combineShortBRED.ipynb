{
 "cells": [
  {
   "cell_type": "code",
   "execution_count": null,
   "id": "cc387034-2854-45d9-8ab8-bf494484ceb9",
   "metadata": {},
   "outputs": [],
   "source": []
  },
  {
   "cell_type": "code",
   "execution_count": 3,
   "id": "d5a463af-b59e-4ef0-8604-2c79f511b617",
   "metadata": {},
   "outputs": [],
   "source": [
    "samples_path = \"/Users/bejanmahmud/Library/CloudStorage/Box-Box/Bejan's files/Projects/DOME/DOME/Analysis/Metagenome/220221_DOME_fc_all/Mapping_v4_allfc_mod.txt\"\n",
    "samples = open(samples_path, \"r\")\n",
    "\n",
    "shortbred_comb_path = \"/Users/bejanmahmud/Library/CloudStorage/Box-Box/Bejan's files/Projects/DOME/DOME/Analysis/Metagenome/220221_DOME_fc_all/d12_shortbred_reads/ShortBRED_combined.txt\"\n",
    "shortbred_comb_file = open(shortbred_comb_path, \"w\")\n",
    "\n",
    "print(\"Sample\\tFamily\\tCount\\tHits\\tTotMarkerLength\", file = shortbred_comb_file)\n",
    "\n",
    "for sample in samples:\n",
    "    sample = sample.strip()\n",
    "    \n",
    "    output_path = \"/Users/bejanmahmud/Library/CloudStorage/Box-Box/Bejan's files/Projects/DOME/DOME/Analysis/Metagenome/220221_DOME_fc_all/d12_shortbred_reads/\" + sample + \"_isolated.txt\"\n",
    "    output_file = open(output_path, \"r\")\n",
    "    \n",
    "    for line in output_file:\n",
    "        if line.startswith(\"Family\"):\n",
    "            continue\n",
    "        else:\n",
    "            line = line.strip()\n",
    "            line = sample + \"\\t\" + line\n",
    "            print(line, file = shortbred_comb_file)\n",
    "    \n",
    "    output_file.close()\n",
    "    \n",
    "samples.close()\n",
    "shortbred_comb_file.close()"
   ]
  },
  {
   "cell_type": "code",
   "execution_count": 65,
   "id": "2829fd00-7b28-4d95-91f8-93a6463672ed",
   "metadata": {},
   "outputs": [],
   "source": [
    "all_hit_genes = []\n",
    "\n",
    "for line in open(\"/Users/bejanmahmud/Library/CloudStorage/Box-Box/Bejan's files/Projects/DOME/DOME/Analysis/Metagenome/220221_DOME_fc_all/d12_shortbred_reads/ShortBRED_combined_wide_transposed.txt\", \"r\"):\n",
    "    line = line.strip().split(\"\\t\")[0]\n",
    "    all_hit_genes.append(line)\n",
    "    \n",
    "all_hit_genes = all_hit_genes[1:]"
   ]
  },
  {
   "cell_type": "code",
   "execution_count": 69,
   "id": "dd4ce95a-2bec-4cd9-89e0-deca1a7231ae",
   "metadata": {},
   "outputs": [],
   "source": [
    "all_hit_genes_path = \"/Users/bejanmahmud/Library/CloudStorage/Box-Box/Bejan's files/Projects/ShortBRED/shortBRED-identify/220529/Mapping/all_hit_genes.txt\"\n",
    "all_hit_genes_file = open(all_hit_genes_path, \"w\")\n",
    "\n",
    "for line in all_hit_genes:\n",
    "    print(line, file = all_hit_genes_file)\n",
    "    \n",
    "all_hit_genes_file.close()"
   ]
  },
  {
   "cell_type": "code",
   "execution_count": 70,
   "id": "11dac779-3d93-49f9-b6ef-8470c2571fb6",
   "metadata": {},
   "outputs": [
    {
     "data": {
      "text/plain": [
       "9293"
      ]
     },
     "execution_count": 70,
     "metadata": {},
     "output_type": "execute_result"
    }
   ],
   "source": [
    "len(all_hit_genes)"
   ]
  },
  {
   "cell_type": "code",
   "execution_count": 75,
   "id": "4773d67c-47d8-456a-a88c-c8cf98b63f08",
   "metadata": {},
   "outputs": [],
   "source": [
    "FMG_genes = []\n",
    "NCBI_genes = []\n",
    "CARD_genes = []\n",
    "\n",
    "for line in all_hit_genes:\n",
    "    if line.startswith(\"D\"):\n",
    "        FMG_genes.append(line)\n",
    "    elif line.startswith(\"gb\"):\n",
    "        CARD_genes.append(line)\n",
    "    else:\n",
    "        NCBI_genes.append(line)"
   ]
  },
  {
   "cell_type": "code",
   "execution_count": 80,
   "id": "dc7f7ed2-7efc-4b9d-aec4-fa6e7a7d92e4",
   "metadata": {},
   "outputs": [],
   "source": [
    "NCBI_genes_path = \"/Users/bejanmahmud/Library/CloudStorage/Box-Box/Bejan's files/Projects/ShortBRED/shortBRED-identify/220529/Mapping/NCBI_hit_genes.txt\"\n",
    "NCBI_genes_file = open(NCBI_genes_path, \"w\")\n",
    "\n",
    "for line in NCBI_genes:\n",
    "    print(line.strip(), file = NCBI_genes_file)\n",
    "    \n",
    "NCBI_genes_file.close()"
   ]
  },
  {
   "cell_type": "code",
   "execution_count": 81,
   "id": "454fbdfe-924a-40ba-bcc5-3e837e9e1a51",
   "metadata": {},
   "outputs": [],
   "source": [
    "FMG_genes_path = \"/Users/bejanmahmud/Library/CloudStorage/Box-Box/Bejan's files/Projects/ShortBRED/shortBRED-identify/220529/Mapping/FMG_hit_genes.txt\"\n",
    "FMG_genes_file = open(FMG_genes_path, \"w\")\n",
    "\n",
    "for line in FMG_genes:\n",
    "    print(line.strip(), file = FMG_genes_file)\n",
    "    \n",
    "FMG_genes_file.close()"
   ]
  },
  {
   "cell_type": "code",
   "execution_count": 82,
   "id": "273f3050-a5e3-4883-a238-82496859eb63",
   "metadata": {},
   "outputs": [],
   "source": [
    "CARD_genes_path = \"/Users/bejanmahmud/Library/CloudStorage/Box-Box/Bejan's files/Projects/ShortBRED/shortBRED-identify/220529/Mapping/CARD_hit_genes.txt\"\n",
    "CARD_genes_file = open(CARD_genes_path, \"w\")\n",
    "\n",
    "for line in CARD_genes:\n",
    "    print(line.strip(), file = CARD_genes_file)\n",
    "    \n",
    "CARD_genes_file.close()"
   ]
  },
  {
   "cell_type": "code",
   "execution_count": 95,
   "id": "8d5970c8-ebbb-482f-ad5a-3bec00198774",
   "metadata": {},
   "outputs": [],
   "source": [
    "NCBI_ref_GB = {}\n",
    "NCBI_ref_RS = {}\n",
    "\n",
    "for line in open(\"/Users/bejanmahmud/Library/CloudStorage/Box-Box/Bejan's files/Projects/ShortBRED/ncbiAMRfinderPLUS/2021-08-11.1/refgenes.tsv\", \"r\"):\n",
    "    if line.startswith(\"#Allele\"):\n",
    "        continue\n",
    "    else:\n",
    "        rs_ref = line.split(\"\\t\")[8]\n",
    "        gb_ref = line.split(\"\\t\")[10]\n",
    "        if rs_ref != \"\":\n",
    "            rs_ref = \"_\".join(rs_ref.split(\".\"))\n",
    "            NCBI_ref_RS[rs_ref] = line\n",
    "        elif gb_ref != \"\":\n",
    "            gb_ref = \"_\".join(gb_ref.split(\".\"))\n",
    "            NCBI_ref_GB[gb_ref] = line\n",
    "        else:\n",
    "            print(line)"
   ]
  },
  {
   "cell_type": "code",
   "execution_count": 101,
   "id": "6ce1583b-335b-4b81-b551-c719270953bf",
   "metadata": {},
   "outputs": [],
   "source": [
    "NCBI_genes_noref = []\n",
    "NCBI_genes_inref = []\n",
    "\n",
    "for line in NCBI_genes:\n",
    "    ref = line.strip().split(\"|\")[1]\n",
    "    if ref not in NCBI_ref_RS.keys() and ref not in NCBI_ref_GB.keys():\n",
    "        NCBI_genes_noref.append(line)\n",
    "    else:\n",
    "        NCBI_genes_inref.append(line)\n",
    "        \n",
    "NCBI_genes_noref_path = \"/Users/bejanmahmud/Library/CloudStorage/Box-Box/Bejan's files/Projects/ShortBRED/shortBRED-identify/220529/Mapping/NCBI_hit_genes_noRef.txt\"\n",
    "NCBI_genes_noref_file = open(NCBI_genes_noref_path, \"w\")\n",
    "\n",
    "for line in NCBI_genes_noref:\n",
    "    print(line, file = NCBI_genes_noref_file)\n",
    "    \n",
    "NCBI_genes_noref_file.close()"
   ]
  },
  {
   "cell_type": "code",
   "execution_count": 104,
   "id": "2b89e4dd-cbcb-4c3a-89bb-686482f5a6de",
   "metadata": {},
   "outputs": [],
   "source": [
    "NCBI_genes_inref_map = []\n",
    "\n",
    "for line in NCBI_genes_inref:\n",
    "    ref = line.strip().split(\"|\")[1]\n",
    "    if ref in NCBI_ref_RS.keys():\n",
    "        NCBI_genes_inref_map.append(line + \"\\t\" + NCBI_ref_RS[ref])\n",
    "    elif ref in NCBI_ref_GB.keys():\n",
    "        NCBI_genes_inref_map.append(line + \"\\t\" + NCBI_ref_GB[ref])\n",
    "        \n",
    "NCBI_genes_inref_map_path = \"/Users/bejanmahmud/Library/CloudStorage/Box-Box/Bejan's files/Projects/ShortBRED/shortBRED-identify/220529/Mapping/Mapping_NCBI_inRef.txt\"\n",
    "NCBI_genes_inref_map_file = open(NCBI_genes_inref_map_path, \"w\")\n",
    "\n",
    "for line in NCBI_genes_inref_map:\n",
    "    print(line.strip(), file = NCBI_genes_inref_map_file)\n",
    "    \n",
    "NCBI_genes_inref_map_file.close()"
   ]
  },
  {
   "cell_type": "code",
   "execution_count": 108,
   "id": "716434d5-f4b6-45b8-9543-ecbc352869e4",
   "metadata": {},
   "outputs": [],
   "source": [
    "NCBI_ref_mut = {}\n",
    "\n",
    "for line in open(\"/Users/bejanmahmud/Library/CloudStorage/Box-Box/Bejan's files/Projects/ShortBRED/ncbiAMRfinderPLUS/2021-08-11.1/AMRProt-mutation.tab\", \"r\"):\n",
    "    if line.startswith(\"#taxgroup\"):\n",
    "        continue\n",
    "    else:\n",
    "        ref = line.split(\"\\t\")[1]\n",
    "        ref = \"_\".join(ref.split(\".\"))\n",
    "        NCBI_ref_mut[ref] = line.strip()"
   ]
  },
  {
   "cell_type": "code",
   "execution_count": 110,
   "id": "a1b76afc-997a-458f-bc6e-af91f81e265b",
   "metadata": {},
   "outputs": [],
   "source": [
    "NCBI_genes_noref_map = []\n",
    "\n",
    "for line in NCBI_genes_noref:\n",
    "    ref = line.strip().split(\"|\")[1]\n",
    "    if ref in NCBI_ref_mut.keys():\n",
    "        NCBI_genes_noref_map.append(line + \"\\t\" + NCBI_ref_mut[ref])\n",
    "    else:\n",
    "        NCBI_genes_noref_map.append(line)"
   ]
  },
  {
   "cell_type": "code",
   "execution_count": 112,
   "id": "6862b9c6-a688-4982-93d2-989ca813b38b",
   "metadata": {},
   "outputs": [],
   "source": [
    "NCBI_genes_noref_map_path = \"/Users/bejanmahmud/Library/CloudStorage/Box-Box/Bejan's files/Projects/ShortBRED/shortBRED-identify/220529/Mapping/Mapping_NCBI_noRef.txt\"\n",
    "NCBI_genes_noref_map_file = open(NCBI_genes_noref_map_path, \"w\")\n",
    "\n",
    "for line in NCBI_genes_noref_map:\n",
    "    print(line.strip(), file = NCBI_genes_noref_map_file)\n",
    "    \n",
    "NCBI_genes_noref_map_file.close()"
   ]
  },
  {
   "cell_type": "code",
   "execution_count": 134,
   "id": "8aef809e-bf06-4c4c-aabd-4c43dd774550",
   "metadata": {},
   "outputs": [],
   "source": [
    "###Getting the sequences for the CARD hits\n",
    "CARD_refs = []\n",
    "\n",
    "for line in CARD_genes:\n",
    "    ref = line.split(\"|\")[1]\n",
    "    ref = ref.split(\"_\")\n",
    "    if len(ref) == 2:\n",
    "        ref = \".\".join(ref)\n",
    "    else:\n",
    "        ref = ref[0] + \"_\" + ref[1] + \".\" + ref[2]\n",
    "    CARD_refs.append(ref)"
   ]
  },
  {
   "cell_type": "code",
   "execution_count": 119,
   "id": "fe58c9e8-cfef-4ee2-a374-dc33a38e8d9b",
   "metadata": {},
   "outputs": [],
   "source": [
    "CARD_all_seqs = []\n",
    "\n",
    "for line in open(\"/Users/bejanmahmud/Library/CloudStorage/Box-Box/Bejan's files/Projects/ShortBRED/CARD/3.2.2/card-data/protein_fasta_protein_homolog_model.fasta\", \"r\"):\n",
    "    line = line.strip()\n",
    "    CARD_all_seqs.append(line)"
   ]
  },
  {
   "cell_type": "code",
   "execution_count": 137,
   "id": "d9b8c82c-604d-4414-8b99-c08e24df14a4",
   "metadata": {},
   "outputs": [],
   "source": [
    "CARD_hit_seqs = []\n",
    "\n",
    "for i in range(0, len(CARD_all_seqs)):\n",
    "    line = CARD_all_seqs[i]\n",
    "    if line.startswith(\">\"):\n",
    "        ref = line.split(\"|\")[1]\n",
    "        if ref in CARD_refs:\n",
    "            CARD_hit_seqs.append(line)\n",
    "            CARD_hit_seqs.append(CARD_all_seqs[i+1])"
   ]
  },
  {
   "cell_type": "code",
   "execution_count": 140,
   "id": "14799ead-eae2-4332-9503-8288b22a2872",
   "metadata": {},
   "outputs": [],
   "source": [
    "CARD_hit_seqs_path = \"/Users/bejanmahmud/Library/CloudStorage/Box-Box/Bejan's files/Projects/ShortBRED/shortBRED-identify/220529/Mapping/CARD_hit_seqs.fasta\"\n",
    "CARD_hit_seqs_file = open(CARD_hit_seqs_path, \"w\")\n",
    "\n",
    "for line in CARD_hit_seqs:\n",
    "    line.strip()\n",
    "    print(line, file = CARD_hit_seqs_file)\n",
    "    \n",
    "CARD_hit_seqs_file.close()"
   ]
  },
  {
   "cell_type": "code",
   "execution_count": 141,
   "id": "9a1c8e75-9ee1-4af8-812c-4c6fe9bcb9fc",
   "metadata": {},
   "outputs": [],
   "source": [
    "###Getting the sequences for the FMG hits\n",
    "###Will first generate a 2line format of all of the sequences that went into shortBRED-identify\n",
    "two_line = []\n",
    "seq = \"\"\n",
    "\n",
    "for line in open(\"/Users/bejanmahmud/Library/CloudStorage/Box-Box/Bejan's files/Projects/ShortBRED/shortBRED-identify/220529/e04_allseqs_forShortbred_unique_editedHeaders.fasta\", \"r\"):\n",
    "    if line.startswith(\">\"):\n",
    "        if seq != \"\":\n",
    "            two_line.append(seq)\n",
    "            seq = \"\"\n",
    "        two_line.append(line.strip())\n",
    "    else:\n",
    "        seq = seq + line.strip()\n",
    "two_line.append(seq)\n",
    "\n",
    "fasta_2line_path = \"/Users/bejanmahmud/Library/CloudStorage/Box-Box/Bejan's files/Projects/ShortBRED/shortBRED-identify/220529/e04_allseqs_forShortbred_unique_editedHeaders_2line.fasta\"\n",
    "fasta_2line = open(fasta_2line_path, \"w\")\n",
    "\n",
    "for line in two_line:\n",
    "    print(line, file = fasta_2line)\n",
    "    \n",
    "fasta_2line.close()"
   ]
  },
  {
   "cell_type": "code",
   "execution_count": 155,
   "id": "8cbb36d6-0f32-4439-b9e4-59f17bd5507e",
   "metadata": {},
   "outputs": [],
   "source": [
    "FMG_hit_seqs = []\n",
    "\n",
    "for i in range(1, len(two_line)):\n",
    "    line = two_line[i]\n",
    "    if line.strip()[1:] in FMG_genes:\n",
    "        FMG_hit_seqs.append(line.strip())\n",
    "        FMG_hit_seqs.append(two_line[i+1])"
   ]
  },
  {
   "cell_type": "code",
   "execution_count": 160,
   "id": "9d45b151-f18a-4c2b-822c-53977e293b59",
   "metadata": {},
   "outputs": [],
   "source": [
    "FMG_hit_seqs_path = \"/Users/bejanmahmud/Library/CloudStorage/Box-Box/Bejan's files/Projects/ShortBRED/shortBRED-identify/220529/Mapping/FMG_hit_seqs.fasta\"\n",
    "FMG_hit_seqs_file = open(FMG_hit_seqs_path, \"w\")\n",
    "\n",
    "for line in FMG_hit_seqs:\n",
    "    print(line.strip(), file = FMG_hit_seqs_file)\n",
    "    \n",
    "FMG_hit_seqs_file.close()"
   ]
  },
  {
   "cell_type": "code",
   "execution_count": 165,
   "id": "8c34de81-97f6-4e16-ac9c-714bd943f928",
   "metadata": {},
   "outputs": [],
   "source": [
    "###Getting the NCBI AMRProt annotations for FMG hits\n",
    "refseq_prot = {}\n",
    "genbank_prot = {}\n",
    "\n",
    "for line in open(\"/Users/bejanmahmud/Library/CloudStorage/Box-Box/Bejan's files/Projects/ShortBRED/ncbiAMRfinderPLUS/2022-04-04.1/ReferenceGeneCatalog.txt\", \"r\"):\n",
    "    if line.startswith(\"allele\"):\n",
    "        continue\n",
    "    else:\n",
    "        line = line.split(\"\\t\")\n",
    "        refseqID = line[9]\n",
    "        genbankID = line[12]\n",
    "        annot = \"\\t\".join(line[5:9])\n",
    "        if refseqID != \"\":\n",
    "            refseq_prot[refseqID] = annot\n",
    "        if genbankID != \"\":\n",
    "            genbank_prot[genbankID] = annot"
   ]
  },
  {
   "cell_type": "code",
   "execution_count": 166,
   "id": "0b00701a-d54e-429c-b19b-1da6a8913d8e",
   "metadata": {},
   "outputs": [],
   "source": [
    "FMG_blast_results = {}\n",
    "\n",
    "for line in open(\"/Users/bejanmahmud/Library/CloudStorage/Box-Box/Bejan's files/Projects/ShortBRED/shortBRED-identify/220529/Mapping/FMG_hit_seqs-NCBI-blastp.txt\", \"r\"):\n",
    "    line = line.strip().split(\"\\t\")\n",
    "    sample = line[0]\n",
    "    refID = line[1].split(\"|\")[1]\n",
    "    if sample not in FMG_blast_results.keys():\n",
    "        FMG_blast_results[sample] = refID"
   ]
  },
  {
   "cell_type": "code",
   "execution_count": 172,
   "id": "a59f3e56-4582-4c5e-9480-4a61f792452b",
   "metadata": {},
   "outputs": [],
   "source": [
    "FMG_annot = []\n",
    "\n",
    "for key in FMG_blast_results.keys():\n",
    "    refID = FMG_blast_results[key]\n",
    "    if refID in refseq_prot.keys():\n",
    "        FMG_annot.append(key + \"\\t\" + refseq_prot[refID])\n",
    "    elif refID in genbank_prot.keys():\n",
    "        FMG_annot.append(key + \"\\t\" + genbank_prot[refID])\n",
    "    else:\n",
    "        print(key)"
   ]
  },
  {
   "cell_type": "code",
   "execution_count": 174,
   "id": "eb20fd57-7c4e-4338-8396-f6e7a5e73a8f",
   "metadata": {},
   "outputs": [],
   "source": [
    "FMG_annot_path = \"/Users/bejanmahmud/Library/CloudStorage/Box-Box/Bejan's files/Projects/ShortBRED/shortBRED-identify/220529/Mapping/Mapping_FMG_NCBIblast.txt\"\n",
    "FMG_annot_file = open(FMG_annot_path, \"w\")\n",
    "\n",
    "for line in FMG_annot:\n",
    "    print(line.strip(), file = FMG_annot_file)\n",
    "    \n",
    "FMG_annot_file.close()"
   ]
  },
  {
   "cell_type": "code",
   "execution_count": 179,
   "id": "8d780c1b-1de7-4cdc-96a1-edd7b1a87bd9",
   "metadata": {},
   "outputs": [],
   "source": [
    "FMG_noNCBIblast_genes = []\n",
    "\n",
    "for i in FMG_genes:\n",
    "    if i not in FMG_blast_results.keys():\n",
    "        FMG_noNCBIblast_genes.append(i)\n",
    "        \n",
    "FMG_noNCBIblast_genes_path = \"/Users/bejanmahmud/Library/CloudStorage/Box-Box/Bejan's files/Projects/ShortBRED/shortBRED-identify/220529/Mapping/FMG_hit_genes_noNCBIblast.txt\"\n",
    "FMG_noNCBIblast_genes_file = open(FMG_noNCBIblast_genes_path, \"w\")\n",
    "\n",
    "for line in FMG_noNCBIblast_genes:\n",
    "    print(line, file = FMG_noNCBIblast_genes_file)\n",
    "    \n",
    "FMG_noNCBIblast_genes_file.close()"
   ]
  },
  {
   "cell_type": "code",
   "execution_count": 181,
   "id": "3bd6994f-1834-4e01-ae97-67b8d1e0ace0",
   "metadata": {},
   "outputs": [],
   "source": [
    "FMG_noNCBI_seq = []\n",
    "\n",
    "for i in range(1, len(two_line)):\n",
    "    line = two_line[i]\n",
    "    if line.strip()[1:] in FMG_noNCBIblast_genes:\n",
    "        FMG_noNCBI_seq.append(line.strip())\n",
    "        FMG_noNCBI_seq.append(two_line[i+1])"
   ]
  },
  {
   "cell_type": "code",
   "execution_count": 184,
   "id": "f5287ef4-cd22-47b0-87ec-cf5693c424d3",
   "metadata": {},
   "outputs": [],
   "source": [
    "FMG_noNCBI_seq_path = \"/Users/bejanmahmud/Library/CloudStorage/Box-Box/Bejan's files/Projects/ShortBRED/shortBRED-identify/220529/Mapping/FMG_noNCBIblast_seqs.fasta\"\n",
    "FMG_noNCBI_seq_file = open(FMG_noNCBI_seq_path, \"w\")\n",
    "\n",
    "for line in FMG_noNCBI_seq:\n",
    "    print(line.strip(), file = FMG_noNCBI_seq_file)\n",
    "    \n",
    "FMG_noNCBI_seq_file.close()"
   ]
  },
  {
   "cell_type": "code",
   "execution_count": 185,
   "id": "8be3c779-7760-45e3-902f-69c2d072638e",
   "metadata": {},
   "outputs": [],
   "source": [
    "FMG_blosum45 = {}\n",
    "\n",
    "for line in open(\"/Users/bejanmahmud/Library/CloudStorage/Box-Box/Bejan's files/Projects/ShortBRED/shortBRED-identify/220529/Mapping/FMG_noNCBIblast_seqs-NCBI-blastp_BLOSUM45.txt\", \"r\"):\n",
    "    line = line.strip().split(\"\\t\")\n",
    "    sample = line[0]\n",
    "    refID = line[1].split(\"|\")[1]\n",
    "    if sample not in FMG_blosum45.keys():\n",
    "        FMG_blosum45[sample] = refID"
   ]
  },
  {
   "cell_type": "code",
   "execution_count": 187,
   "id": "6e9aa53b-bd64-4c32-b89a-b2e2ad00b546",
   "metadata": {},
   "outputs": [],
   "source": [
    "FMG_blosum45_annot = []\n",
    "\n",
    "for key in FMG_blosum45.keys():\n",
    "    refID = FMG_blosum45[key]\n",
    "    if refID in refseq_prot.keys():\n",
    "        FMG_blosum45_annot.append(key + \"\\t\" + refseq_prot[refID])\n",
    "    elif refID in genbank_prot.keys():\n",
    "        FMG_blosum45_annot.append(key + \"\\t\" + genbank_prot[refID])\n",
    "    else:\n",
    "        print(key)"
   ]
  },
  {
   "cell_type": "code",
   "execution_count": 190,
   "id": "c60ff0af-e7c7-42d0-a62b-a47d45d236db",
   "metadata": {},
   "outputs": [],
   "source": [
    "FMG_blosum45_annot_path = \"/Users/bejanmahmud/Library/CloudStorage/Box-Box/Bejan's files/Projects/ShortBRED/shortBRED-identify/220529/Mapping/Mapping_FMG_NCBIblast_BLOSUM45.txt\"\n",
    "FMG_blosum45_annot_file = open(FMG_blosum45_annot_path, \"w\")\n",
    "\n",
    "for line in FMG_blosum45_annot:\n",
    "    print(line.strip(), file = FMG_blosum45_annot_file)\n",
    "    \n",
    "FMG_blosum45_annot_file.close()"
   ]
  },
  {
   "cell_type": "code",
   "execution_count": 191,
   "id": "cba95ba0-4beb-4dd9-b82a-0d58723cfcb2",
   "metadata": {},
   "outputs": [],
   "source": [
    "mapping_comb = {}\n",
    "\n",
    "for line in open(\"/Users/bejanmahmud/Library/CloudStorage/Box-Box/Bejan's files/Projects/ShortBRED/shortBRED-identify/220529/Mapping/Mapping_combined.txt\", \"r\"):\n",
    "    line = line.split(\"\\t\")\n",
    "    gene = line[0]\n",
    "    if line[3] != \"\":\n",
    "        abx_class = line[3]\n",
    "    else:\n",
    "        abx_class = \"OTHER\"\n",
    "    mapping_comb[gene] = abx_class"
   ]
  },
  {
   "cell_type": "code",
   "execution_count": 197,
   "id": "bf00abb0-e6b5-4b63-8dbd-7d600b9ed393",
   "metadata": {},
   "outputs": [],
   "source": [
    "all_annot = []\n",
    "\n",
    "for gene in all_hit_genes:\n",
    "    if gene in mapping_comb.keys():\n",
    "        all_annot.append(gene + \"\\t\" + mapping_comb[gene])\n",
    "    else:\n",
    "        all_annot.append(gene + \"\\tOTHER\")"
   ]
  },
  {
   "cell_type": "code",
   "execution_count": 200,
   "id": "b475ef12-b1b3-4eec-8116-a5ba3d2e0add",
   "metadata": {},
   "outputs": [],
   "source": [
    "all_annot_path = \"/Users/bejanmahmud/Library/CloudStorage/Box-Box/Bejan's files/Projects/ShortBRED/shortBRED-identify/220529/Mapping/all_annot_AbxClass.txt\"\n",
    "all_annot_file = open(all_annot_path, \"w\")\n",
    "\n",
    "for line in all_annot:\n",
    "    print(line.strip(), file = all_annot_file)\n",
    "    \n",
    "all_annot_file.close()"
   ]
  },
  {
   "cell_type": "code",
   "execution_count": null,
   "id": "3549f89f-82db-44d4-96c4-5e8728fe573d",
   "metadata": {},
   "outputs": [],
   "source": []
  }
 ],
 "metadata": {
  "kernelspec": {
   "display_name": "Python 3",
   "language": "python",
   "name": "python3"
  },
  "language_info": {
   "codemirror_mode": {
    "name": "ipython",
    "version": 3
   },
   "file_extension": ".py",
   "mimetype": "text/x-python",
   "name": "python",
   "nbconvert_exporter": "python",
   "pygments_lexer": "ipython3",
   "version": "3.8.8"
  }
 },
 "nbformat": 4,
 "nbformat_minor": 5
}
