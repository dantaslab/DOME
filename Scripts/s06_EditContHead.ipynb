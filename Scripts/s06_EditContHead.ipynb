{
 "cells": [
  {
   "cell_type": "code",
   "execution_count": 1,
   "id": "558ff63c-62c8-4634-90f8-95da315b19b5",
   "metadata": {},
   "outputs": [],
   "source": [
    "###This script edits the contig headers in the megahit outputs"
   ]
  },
  {
   "cell_type": "code",
   "execution_count": 9,
   "id": "07e32e3e-7e22-4929-946d-85e3cc930ecd",
   "metadata": {},
   "outputs": [],
   "source": [
    "input_path = \"/Users/bejanmahmud/Library/CloudStorage/Box-Box/Bejan's files/Projects/DOME/DOME/Analysis/Metagenome/220221_DOME_fc_all/d06_megahit/C0101/final.contigs.fa\"\n",
    "input_file = open(input_path, \"r\")\n",
    "\n",
    "output_path = \"/Users/bejanmahmud/Library/CloudStorage/Box-Box/Bejan's files/Projects/DOME/DOME/Analysis/Metagenome/220221_DOME_fc_all/d06_megahit/C0101/final.contigs.modhead.fa\"\n",
    "output_file = open(output_path, \"w\")"
   ]
  },
  {
   "cell_type": "code",
   "execution_count": 10,
   "id": "cae0cbda-ecd6-4441-8ae6-f315a7345e21",
   "metadata": {},
   "outputs": [],
   "source": [
    "sample = \"C0101\""
   ]
  },
  {
   "cell_type": "code",
   "execution_count": 11,
   "id": "61236570-5128-4030-8912-f4e8081aecc5",
   "metadata": {},
   "outputs": [],
   "source": [
    "for line in input_file:\n",
    "    line = line.strip()\n",
    "    if line.startswith(\">\"):\n",
    "        line = line.split(\" \")[0]\n",
    "        line = \">\" + sample + \"_\" + line[1:]\n",
    "        print(line, file = output_file)\n",
    "    else:\n",
    "        print(line, file = output_file)\n",
    "\n",
    "input_file.close()\n",
    "output_file.close()"
   ]
  },
  {
   "cell_type": "code",
   "execution_count": null,
   "id": "0b05ffc1-a4ee-4027-af97-02d0f3bdacda",
   "metadata": {},
   "outputs": [],
   "source": []
  }
 ],
 "metadata": {
  "kernelspec": {
   "display_name": "Python 3",
   "language": "python",
   "name": "python3"
  },
  "language_info": {
   "codemirror_mode": {
    "name": "ipython",
    "version": 3
   },
   "file_extension": ".py",
   "mimetype": "text/x-python",
   "name": "python",
   "nbconvert_exporter": "python",
   "pygments_lexer": "ipython3",
   "version": "3.8.8"
  }
 },
 "nbformat": 4,
 "nbformat_minor": 5
}
