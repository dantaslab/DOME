{
 "cells": [
  {
   "cell_type": "code",
   "execution_count": 1,
   "id": "af692fb0-0172-4cae-a59e-7cb34683aa48",
   "metadata": {},
   "outputs": [],
   "source": [
    "import os"
   ]
  },
  {
   "cell_type": "code",
   "execution_count": 2,
   "id": "5aaf0720-acea-4f67-ab8b-c64e396ab2ca",
   "metadata": {},
   "outputs": [],
   "source": [
    "###This script parses through the BLOSUM45 output of DOME FMG query against the CARD-NCBI database\n",
    "FMG_hits = {}\n",
    "\n",
    "for line in open(\"/Users/bejanmahmud/Library/CloudStorage/Box-Box/Bejan's files/Projects/DOME/DOME/Analysis/Metagenome/220221_DOME_fc_all/d15_BLAST/DOME_FMG-NCBI_CARD-blastp-BLOSUM45.txt\", \"r\"):\n",
    "    line = line.strip()\n",
    "    line = line.split(\"\\t\")\n",
    "    entry = line[0]\n",
    "    cov = line[2]\n",
    "    iden = line[3]\n",
    "    if entry not in FMG_hits.keys():\n",
    "        FMG_hits[entry] = cov + \"\\t\" + iden\n",
    "\n"
   ]
  },
  {
   "cell_type": "code",
   "execution_count": 3,
   "id": "8cacdb33-be86-4f25-97f1-1c8e24f1106b",
   "metadata": {},
   "outputs": [],
   "source": [
    "allFMGhits = []\n",
    "\n",
    "for line in open(\"/Users/bejanmahmud/Library/CloudStorage/Box-Box/Bejan's files/Projects/DOME/DOME/Analysis/FMG/PP-Next/All/d04_parfums_run/resfam_annotation/fmg_DOME_All_filtered_contigs_r05_merged_seqs_filtered.fasta\", \"r\"):\n",
    "    if line.startswith(\">\"):\n",
    "        line = line[1:]\n",
    "        allFMGhits.append(line.strip())"
   ]
  },
  {
   "cell_type": "code",
   "execution_count": 14,
   "id": "182ef496-c87c-4c05-b139-cd2bccf1dc51",
   "metadata": {},
   "outputs": [],
   "source": [
    "for hit in allFMGhits:\n",
    "    if hit not in FMG_hits.keys():\n",
    "        FMG_hits[hit] = \"0\\t0\""
   ]
  },
  {
   "cell_type": "code",
   "execution_count": 18,
   "id": "1732d687-f019-48b0-9df8-decd948a53da",
   "metadata": {},
   "outputs": [],
   "source": [
    "output_path = \"/Users/bejanmahmud/Library/CloudStorage/Box-Box/Bejan's files/Projects/DOME/DOME/Analysis/Metagenome/220221_DOME_fc_all/d15_BLAST/DOME_FMG-NCBI_CARD-blastp-BLOSUM45_summary.txt\"\n",
    "output_file = open(output_path, \"w\")\n",
    "\n",
    "print(\"Hit\\tCoverage\\tIdentity\", file = output_file)\n",
    "\n",
    "for key, value in FMG_hits.items():\n",
    "    print(key + \"\\t\" + value, file = output_file)\n",
    "\n",
    "output_file.close()"
   ]
  },
  {
   "cell_type": "code",
   "execution_count": 4,
   "id": "ffe46720-144a-4527-a51e-57e4ce20dc1e",
   "metadata": {},
   "outputs": [],
   "source": [
    "FMGlib_sources = {}\n",
    "\n",
    "FMGlib_sources['1'] = \"C\"\n",
    "FMGlib_sources['2'] = \"C\"\n",
    "FMGlib_sources['3'] = \"C\"\n",
    "FMGlib_sources['4'] = \"C\"\n",
    "FMGlib_sources['5'] = \"C\"\n",
    "FMGlib_sources['6'] = \"C\"\n",
    "FMGlib_sources['7'] = \"C\"\n",
    "FMGlib_sources['8'] = \"C\"\n",
    "FMGlib_sources['9'] = \"D\"\n",
    "FMGlib_sources['10'] = \"D\"\n",
    "FMGlib_sources['11'] = \"W\"\n",
    "FMGlib_sources['12'] = \"W\"\n",
    "FMGlib_sources['13'] = \"W\""
   ]
  },
  {
   "cell_type": "code",
   "execution_count": 28,
   "id": "da295d07-017e-4e60-b4c2-e881fe4db243",
   "metadata": {},
   "outputs": [],
   "source": [
    "mapping_allFMGhits = []\n",
    "\n",
    "for hit in allFMGhits:\n",
    "    lib = hit.split(\"|\")[1].split(\"-\")[0]\n",
    "    abx = hit.split(\"|\")[1].split(\"-\")[1].split(\"_\")[0]\n",
    "    origin = FMGlib_sources[lib[1:]]\n",
    "    mapping_allFMGhits.append(hit + \"\\t\" + lib + \"\\t\" + abx + \"\\t\" + origin)"
   ]
  },
  {
   "cell_type": "code",
   "execution_count": 31,
   "id": "298b4974-58ea-44e7-83be-3f2f03d0784d",
   "metadata": {},
   "outputs": [],
   "source": [
    "mapping_allFMGhits_path = \"/Users/bejanmahmud/Library/CloudStorage/Box-Box/Bejan's files/Projects/DOME/DOME/Analysis/Metagenome/220221_DOME_fc_all/d15_BLAST/FMGhits_mapping_v1.txt\"\n",
    "mapping_allFMGhits_file = open(mapping_allFMGhits_path, \"w\")\n",
    "\n",
    "print(\"Hit\\tLibrary\\tAntibiotic\\tOrigin\", file = mapping_allFMGhits_file)\n",
    "\n",
    "for line in mapping_allFMGhits:\n",
    "    print(line, file = mapping_allFMGhits_file)\n",
    "\n",
    "mapping_allFMGhits_file.close()"
   ]
  },
  {
   "cell_type": "code",
   "execution_count": 1,
   "id": "d6eb8c86-7ce2-4ffe-9982-af9447b6feb0",
   "metadata": {},
   "outputs": [],
   "source": [
    "###Getting the top CARD/AMRProt matches for each FMG hit\n",
    "FMG_topMatches = {}\n",
    "\n",
    "for line in open(\"/Users/bejanmahmud/Library/CloudStorage/Box-Box/Bejan's files/Projects/DOME/DOME/Analysis/Metagenome/220221_DOME_fc_all/d15_BLAST/DOME_FMG-NCBI_CARD-blastp-BLOSUM45.txt\", \"r\"):\n",
    "    line = line.strip()\n",
    "    line = line.split(\"\\t\")\n",
    "    entry = line[0]\n",
    "    match = line[1]\n",
    "    if entry not in FMG_topMatches.keys():\n",
    "        FMG_topMatches[entry] = match"
   ]
  },
  {
   "cell_type": "code",
   "execution_count": 4,
   "id": "1bf3eba4-ac84-4bd4-95cf-a7dca4ca237c",
   "metadata": {},
   "outputs": [],
   "source": [
    "###Creating the 2line version of the FMG hits fasta file\n",
    "fasta_path = \"/Users/bejanmahmud/Library/CloudStorage/Box-Box/Bejan's files/Projects/DOME/DOME/Analysis/FMG/PP-Next/All/d04_parfums_run/resfam_annotation/fmg_DOME_All_filtered_contigs_r05_merged_seqs_filtered.fasta\"\n",
    "two_line = []\n",
    "seq = \"\"\n",
    "with open(fasta_path) as file:\n",
    "    for line in file:\n",
    "        if line.startswith(\">\"):\n",
    "            if seq != \"\":\n",
    "                two_line.append(seq)\n",
    "                seq = \"\"\n",
    "            two_line.append(line.strip())\n",
    "        else:\n",
    "            seq = seq + line.strip()\n",
    "    two_line.append(seq)\n",
    "fasta_2line_path = \"/Users/bejanmahmud/Library/CloudStorage/Box-Box/Bejan's files/Projects/DOME/DOME/Analysis/FMG/PP-Next/All/d04_parfums_run/resfam_annotation/fmg_DOME_All_filtered_contigs_r05_merged_seqs_filtered_2line.fasta\"\n",
    "fasta_2line = open(fasta_2line_path, \"w\")\n",
    "for line in two_line:\n",
    "    print(line, file = fasta_2line)\n",
    "fasta_2line.close()"
   ]
  },
  {
   "cell_type": "code",
   "execution_count": 18,
   "id": "a01717f3-8e84-415c-a3d0-ed0420173279",
   "metadata": {},
   "outputs": [],
   "source": [
    "###Creating individual fasta fiels for each FMG hit\n",
    "for i in list(range(0,len(two_line),2)):\n",
    "    hit = two_line[i]\n",
    "    hit = hit[1:]\n",
    "    hit = \"_\".join(hit.split(\"|\"))\n",
    "    output_path = \"/Users/bejanmahmud/Library/CloudStorage/Box-Box/Bejan's files/Projects/DOME/DOME/Analysis/Metagenome/220221_DOME_fc_all/d19_needle/FMGhits/\" + hit + \".fasta\"\n",
    "    output_file = open(output_path, \"w\")\n",
    "    print(two_line[i], file = output_file)\n",
    "    print(two_line[i+1], file = output_file)\n",
    "    output_file.close()"
   ]
  },
  {
   "cell_type": "code",
   "execution_count": 26,
   "id": "1d63a56f-5d7d-405f-a35b-ef381c4ebdfd",
   "metadata": {},
   "outputs": [],
   "source": [
    "###Making individual fasta files for each unique top CARD/AMRProt match\n",
    "unique_matches = []\n",
    "\n",
    "for match in FMG_topMatches.values():\n",
    "    match = match.split(\"|\")\n",
    "    match = \"|\".join(match[0:2])\n",
    "    if match not in unique_matches:\n",
    "        unique_matches.append(match)"
   ]
  },
  {
   "cell_type": "code",
   "execution_count": 22,
   "id": "a783a8be-025f-48aa-9c03-1625647ba9b0",
   "metadata": {},
   "outputs": [],
   "source": [
    "fasta_path = \"/Users/bejanmahmud/Library/CloudStorage/Box-Box/Bejan's files/Projects/DOME/DOME/Analysis/Metagenome/220221_DOME_fc_all/BLASTdb/e01_AR-databases_protseqs_FixTrimIDs.fasta\"\n",
    "two_line = []\n",
    "seq = \"\"\n",
    "with open(fasta_path) as file:\n",
    "    for line in file:\n",
    "        if line.startswith(\">\"):\n",
    "            if seq != \"\":\n",
    "                two_line.append(seq)\n",
    "                seq = \"\"\n",
    "            two_line.append(line.strip())\n",
    "        else:\n",
    "            seq = seq + line.strip()\n",
    "    two_line.append(seq)\n",
    "fasta_2line_path = \"/Users/bejanmahmud/Library/CloudStorage/Box-Box/Bejan's files/Projects/DOME/DOME/Analysis/Metagenome/220221_DOME_fc_all/BLASTdb/e01_AR-databases_protseqs_FixTrimIDs_2line.fasta\"\n",
    "fasta_2line = open(fasta_2line_path, \"w\")\n",
    "for line in two_line:\n",
    "    print(line, file = fasta_2line)\n",
    "fasta_2line.close()"
   ]
  },
  {
   "cell_type": "code",
   "execution_count": 29,
   "id": "07e5a161-24cc-48a5-a00b-7d1186c1db33",
   "metadata": {},
   "outputs": [],
   "source": [
    "ARGdb = {}\n",
    "\n",
    "for i in list(range(0,len(two_line),2)):\n",
    "    match = two_line[i]\n",
    "    match = match[1:]\n",
    "    match = match.split(\"|\")\n",
    "    match = \"|\".join(match[0:2])\n",
    "    ARGdb[match] = two_line[i+1]"
   ]
  },
  {
   "cell_type": "code",
   "execution_count": 36,
   "id": "98def027-61dd-4480-9ece-23cddedc00c9",
   "metadata": {},
   "outputs": [],
   "source": [
    "for match in unique_matches:\n",
    "    seq = ARGdb[match]\n",
    "    match = \"_\".join(match.split(\"|\"))\n",
    "    output_path = \"/Users/bejanmahmud/Library/CloudStorage/Box-Box/Bejan's files/Projects/DOME/DOME/Analysis/Metagenome/220221_DOME_fc_all/d19_needle/ARGdb/\" + match + \".fasta\"\n",
    "    output_file = open(output_path, \"w\")\n",
    "    print(\">\" + match, file = output_file)\n",
    "    print(seq, file = output_file)\n",
    "    output_file.close()"
   ]
  },
  {
   "cell_type": "code",
   "execution_count": 40,
   "id": "ed454aa1-35dc-4a03-9051-a1027bfe9cb3",
   "metadata": {},
   "outputs": [],
   "source": [
    "###Generating two lists for the FMG hits and their top matches\n",
    "hits_path = \"/Users/bejanmahmud/Library/CloudStorage/Box-Box/Bejan's files/Projects/DOME/DOME/Analysis/Metagenome/220221_DOME_fc_all/d19_needle/220805_ARGdb_FMGhits.txt\"\n",
    "hits_file = open(hits_path, \"w\")\n",
    "\n",
    "matches_path = \"/Users/bejanmahmud/Library/CloudStorage/Box-Box/Bejan's files/Projects/DOME/DOME/Analysis/Metagenome/220221_DOME_fc_all/d19_needle/220805_ARGdb_ARGdbMatches.txt\"\n",
    "matches_file = open(matches_path, \"w\")\n",
    "\n",
    "for hit, match in FMG_topMatches.items():\n",
    "    hit = hit.split(\"|\")\n",
    "    hit = \"_\".join(hit)\n",
    "    match = match.split(\"|\")\n",
    "    match = \"_\".join(match[0:2])\n",
    "    print(hit, file = hits_file)\n",
    "    print(match, file = matches_file)\n",
    "    \n",
    "hits_file.close()\n",
    "matches_file.close()"
   ]
  },
  {
   "cell_type": "code",
   "execution_count": 15,
   "id": "4fcdd869-94ab-47ea-8d1d-d1fe612eb054",
   "metadata": {},
   "outputs": [],
   "source": [
    "###Getting the most likely organisms of origin of the FMG hits\n",
    "###First, creating a dictionary of the taxa of origin of all top refseq hits\n",
    "refseqTaxa = {}\n",
    "\n",
    "for ref in os.listdir(\"/Users/bejanmahmud/Library/CloudStorage/Box-Box/Bejan's files/Projects/DOME/DOME/Analysis/Metagenome/220221_DOME_fc_all/d15_BLAST/FMG-NCBInr_TopUniqueHits\"):\n",
    "    ref = ref.strip()\n",
    "    file = open(\"/Users/bejanmahmud/Library/CloudStorage/Box-Box/Bejan's files/Projects/DOME/DOME/Analysis/Metagenome/220221_DOME_fc_all/d15_BLAST/FMG-NCBInr_TopUniqueHits/\" + ref, \"r\")\n",
    "    file = file.readlines()\n",
    "    taxa = file[0].strip().split(\"[\")[-1][:-1]\n",
    "    ref = ref.split(\".\")\n",
    "    ref = ref[0] + \".\" + ref[1]\n",
    "    refseqTaxa[ref] = taxa"
   ]
  },
  {
   "cell_type": "code",
   "execution_count": 16,
   "id": "fff9a6b7-43d4-431a-b806-9bd843bf483d",
   "metadata": {},
   "outputs": [
    {
     "data": {
      "text/plain": [
       "1232"
      ]
     },
     "execution_count": 16,
     "metadata": {},
     "output_type": "execute_result"
    }
   ],
   "source": [
    "len(refseqTaxa)"
   ]
  },
  {
   "cell_type": "code",
   "execution_count": 41,
   "id": "f8c937ad-2bc2-4e1b-9e61-fa117bc31170",
   "metadata": {},
   "outputs": [
    {
     "name": "stdout",
     "output_type": "stream",
     "text": [
      "5TUM\n",
      "7BEF\n",
      "7BEF\n",
      "7BEF\n",
      "7BEF\n"
     ]
    }
   ],
   "source": [
    "###Now, going through the BLAST results of FMG hits to tie them to the taxa of origin of the top hit\n",
    "FMG_origins = []\n",
    "\n",
    "FMG_origins.append(\"FMG hit\\tLibrary\\tSource\\tAbx\\tRefSeq hit\\tRefSeq origin\")\n",
    "\n",
    "for hit in os.listdir(\"/Users/bejanmahmud/Library/CloudStorage/Box-Box/Bejan's files/Projects/DOME/DOME/Analysis/Metagenome/220221_DOME_fc_all/d15_BLAST/FMG-NCBInr\"):\n",
    "    line = open(\"/Users/bejanmahmud/Library/CloudStorage/Box-Box/Bejan's files/Projects/DOME/DOME/Analysis/Metagenome/220221_DOME_fc_all/d15_BLAST/FMG-NCBInr/\" + hit, \"r\").readline().strip().split(\"\\t\")\n",
    "    gene = line[0]\n",
    "    ref = line[1].split(\"|\")[1]\n",
    "    library = gene.split(\"|\")[1].split(\"-\")[0]\n",
    "    source = FMGlib_sources[library[1:]]\n",
    "    abx = gene.split(\"|\")[1].split(\"-\")[1].split(\"_\")[0]\n",
    "    if ref in refseqTaxa.keys():\n",
    "        taxa = refseqTaxa[ref]\n",
    "        FMG_origins.append(gene + \"\\t\" + library + \"\\t\" + source + \"\\t\" + abx + \"\\t\" + ref + \"\\t\" + taxa)\n",
    "    else:\n",
    "        print(ref)"
   ]
  },
  {
   "cell_type": "code",
   "execution_count": 44,
   "id": "ff9be64d-ebcd-4a09-8eaf-830821f5a543",
   "metadata": {},
   "outputs": [],
   "source": [
    "FMG_origins_file = open(\"/Users/bejanmahmud/Library/CloudStorage/Box-Box/Bejan's files/Projects/DOME/DOME/Analysis/Metagenome/220221_DOME_fc_all/d15_BLAST/FMG_RefSeq_origins.txt\", \"w\")\n",
    "\n",
    "for line in FMG_origins:\n",
    "    print(line.strip(), file = FMG_origins_file)\n",
    "    \n",
    "FMG_origins_file.close()"
   ]
  },
  {
   "cell_type": "code",
   "execution_count": 13,
   "id": "fefd7f9d-c4eb-4e79-bd5e-fb8cfb4ee4c7",
   "metadata": {},
   "outputs": [
    {
     "data": {
      "text/plain": [
       "{'C': 1202, 'W': 465, 'D': 382}"
      ]
     },
     "execution_count": 13,
     "metadata": {},
     "output_type": "execute_result"
    }
   ],
   "source": [
    "###Looking at the subject type (cow, farmer, non-farmer) origins of DOME FMG hits\n",
    "FMGhit_origins = {\n",
    "    \"C\" : 0,\n",
    "    \"W\" : 0,\n",
    "    \"D\" : 0\n",
    "}\n",
    "\n",
    "for hit in allFMGhits:\n",
    "    library = hit.split(\"|\")[1].split(\"-\")[0][1:]\n",
    "    FMGhit_origins[FMGlib_sources[library]] += 1\n",
    "    \n",
    "FMGhit_origins"
   ]
  },
  {
   "cell_type": "code",
   "execution_count": null,
   "id": "7d2747c1-aff6-47b3-9965-976eaf80a4cc",
   "metadata": {},
   "outputs": [],
   "source": []
  }
 ],
 "metadata": {
  "kernelspec": {
   "display_name": "Python 3",
   "language": "python",
   "name": "python3"
  },
  "language_info": {
   "codemirror_mode": {
    "name": "ipython",
    "version": 3
   },
   "file_extension": ".py",
   "mimetype": "text/x-python",
   "name": "python",
   "nbconvert_exporter": "python",
   "pygments_lexer": "ipython3",
   "version": "3.8.8"
  }
 },
 "nbformat": 4,
 "nbformat_minor": 5
}
